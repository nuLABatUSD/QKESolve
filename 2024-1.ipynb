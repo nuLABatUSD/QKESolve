{
 "cells": [
  {
   "cell_type": "code",
   "execution_count": 1,
   "id": "be049316",
   "metadata": {},
   "outputs": [],
   "source": [
    "import numpy as np\n",
    "import random\n",
    "import matplotlib.pyplot as plt"
   ]
  },
  {
   "cell_type": "markdown",
   "id": "3eecd604",
   "metadata": {},
   "source": [
    "## 1: Create function to convert (P0, p) to $\\rho$ matrix\n",
    "- input array of 4 numbers \n",
    "- outputs complex valued 2x2 matrix"
   ]
  },
  {
   "cell_type": "code",
   "execution_count": 2,
   "id": "e7914518",
   "metadata": {},
   "outputs": [],
   "source": [
    "#######1b: make function\n",
    "    #found np.tensordot, generalization of dot product better for higher dimensional arrays\n",
    "    ###np.tensordot(vector 1, vector 2, axes=1) where axes=1 means sum over one axis of each \n",
    "    ###array like how a normal dot product would do: corresponding elements are multiplied and then summed up\n",
    "\n",
    "def create_density_matrix(p0xyz):\n",
    "    P0, Px, Py, Pz = p0xyz # \"unpacking array\"\n",
    "\n",
    "    identity_matrix = np.zeros((2,2), dtype = 'complex128')\n",
    "    identity_matrix[0,0]= 1\n",
    "    identity_matrix[1,1] = 1\n",
    "\n",
    "    pauli_x = np.zeros((2,2), dtype = 'complex128')\n",
    "    pauli_x[0,1]= 1\n",
    "    pauli_x[1,0] = 1\n",
    "\n",
    "    pauli_y = np.zeros((2,2), dtype = 'complex128')\n",
    "    pauli_y[0,1]= -1j\n",
    "    pauli_y[1,0] = 1j\n",
    "\n",
    "    pauli_z = np.zeros((2,2), dtype = 'complex128')\n",
    "    pauli_z[0,0]= 1\n",
    "    pauli_z[1,1] = -1\n",
    "    \n",
    "    p = np.array([Px, Py, Pz])\n",
    "\n",
    "    pauli_basis = np.array([pauli_x, pauli_y, pauli_z]) #define pauli basis, 3D array-set of 2x2 matrices\n",
    "\n",
    "    p_dot_pauli = np.tensordot(p, pauli_basis, axes=1) #p dot pauli, multiplies px,py,pz by pauli xyz\n",
    "\n",
    "    density_matrix = 0.5 * P0 * (identity_matrix + p_dot_pauli)\n",
    "   \n",
    "    return density_matrix"
   ]
  },
  {
   "cell_type": "code",
   "execution_count": 3,
   "id": "d9ac1755",
   "metadata": {},
   "outputs": [
    {
     "name": "stdout",
     "output_type": "stream",
     "text": [
      "[[0.75+0.j   0.25+0.25j]\n",
      " [0.25-0.25j 0.25+0.j  ]]\n"
     ]
    }
   ],
   "source": [
    "#testing\n",
    "p0xyz = [1, 0.5, -0.5, 0.5]\n",
    "density_matrix = create_density_matrix(p0xyz)\n",
    "print(density_matrix)"
   ]
  },
  {
   "cell_type": "markdown",
   "id": "66fe490c",
   "metadata": {},
   "source": [
    "## 2: Testing Function\n",
    "- (2a) create function with no inputs but outputs an array of 4 random real numbers\n",
    "- (2b) create function that inputs array and outputs 2x2 matrix"
   ]
  },
  {
   "cell_type": "code",
   "execution_count": 4,
   "id": "da92c49e",
   "metadata": {},
   "outputs": [
    {
     "name": "stdout",
     "output_type": "stream",
     "text": [
      "[ 0.32759851 -0.62004264  0.59103987 -0.48826616]\n"
     ]
    }
   ],
   "source": [
    "##2a: random number generator\n",
    "def generate_random_numbers():\n",
    "    first_number = random.uniform(0, 1)\n",
    "    second_number = random.uniform(-1, 1)\n",
    "    third_number = random.uniform(-1, 1)\n",
    "    fourth_number = random.uniform(-1, 1)\n",
    "    results = np.array([first_number, second_number, third_number, fourth_number])\n",
    "    return results\n",
    "\n",
    "random_numbers = generate_random_numbers()\n",
    "print(random_numbers)"
   ]
  },
  {
   "cell_type": "code",
   "execution_count": 5,
   "id": "b2dad057",
   "metadata": {},
   "outputs": [
    {
     "name": "stdout",
     "output_type": "stream",
     "text": [
      "[[0.75+0.j   0.25+0.25j]\n",
      " [0.25-0.25j 0.25+0.j  ]]\n"
     ]
    },
    {
     "data": {
      "text/plain": [
       "array([[ 0.41391211+0.j        , -0.15985413+0.12715229j],\n",
       "       [-0.15985413-0.12715229j,  0.0907493 +0.j        ]])"
      ]
     },
     "execution_count": 5,
     "metadata": {},
     "output_type": "execute_result"
    }
   ],
   "source": [
    "##2b: this function takes an array-ANY array-and tests the density matrix made earlier with that array\n",
    "def test_density_matrix(p0xyz):\n",
    "    P0, Px, Py, Pz = p0xyz # \"unpacking array\"\n",
    "\n",
    "    density_matrix_test = np.zeros((2,2), dtype = 'complex128')\n",
    "    density_matrix_test[0,0]= 0.5*P0*(1+Pz)\n",
    "    density_matrix_test[1,1] = 0.5*P0*(1-Pz)\n",
    "    density_matrix_test[0,1]= 0.5*P0*Px - 0.5*1j*P0*Py\n",
    "    density_matrix_test[1,0]= 0.5*P0*Px + 0.5*1j*P0*Py\n",
    "    \n",
    "    return (density_matrix_test)\n",
    "\n",
    "density_matrix_test = test_density_matrix(p0xyz)\n",
    "print(density_matrix_test)\n",
    "\n",
    "random_numbers = generate_random_numbers()\n",
    "test_density_matrix(random_numbers)"
   ]
  },
  {
   "cell_type": "markdown",
   "id": "dd7fb01a",
   "metadata": {},
   "source": [
    "## 3: Comparing function\n",
    "- (3a) create function that inputs complex valued matrix (L and M) and outputs the normalized difference\n",
    "- (3b) create loop that does whole thing"
   ]
  },
  {
   "cell_type": "code",
   "execution_count": 6,
   "id": "1898b9a8",
   "metadata": {},
   "outputs": [],
   "source": [
    "##3a: create function that inputs complex valued matrix (L and M) and outputs the normalized difference\n",
    "    #L matrix is output of create_density_matrix\n",
    "    #M is output of test_density_matrix\n",
    "\n",
    "def norm_diff(L, M):\n",
    "    LminusM = L - M\n",
    "    mag_LminusM = np.sqrt(np.sum(np.abs(LminusM)**2))\n",
    "    mag_L = np.sqrt(np.sum(np.abs(L)**2))\n",
    "    mag_M = np.sqrt(np.sum(np.abs(M)**2))\n",
    "    \n",
    "    delta = mag_LminusM / (mag_L + mag_M)\n",
    "    \n",
    "    return delta"
   ]
  },
  {
   "cell_type": "code",
   "execution_count": 7,
   "id": "e0ea1417",
   "metadata": {},
   "outputs": [
    {
     "data": {
      "text/plain": [
       "0.0"
      ]
     },
     "execution_count": 7,
     "metadata": {},
     "output_type": "execute_result"
    }
   ],
   "source": [
    "L = create_density_matrix(random_numbers) #come back to this\n",
    "M = test_density_matrix(random_numbers)\n",
    "\n",
    "norm_diff(L,M)"
   ]
  },
  {
   "cell_type": "code",
   "execution_count": 8,
   "id": "0d432831",
   "metadata": {},
   "outputs": [],
   "source": [
    "##3b: create loop\n",
    "\n",
    "def trial_loop(N): \n",
    "\n",
    "    delta_values = [] #an empty list so i can append later\n",
    "    random_numbers_used = []\n",
    "\n",
    "    for i in range(N):\n",
    "        #create random array\n",
    "        random_numbers = generate_random_numbers()\n",
    "\n",
    "        #compute density matrix both ways\n",
    "        L = create_density_matrix(random_numbers)\n",
    "        M = test_density_matrix(random_numbers)\n",
    "\n",
    "        #compare the matrices\n",
    "        delta = norm_diff(L, M)\n",
    "\n",
    "        #save the delta values into an array and append the random arrays to a list\n",
    "        delta_values.append(delta)\n",
    "        random_numbers_used.append(random_numbers) #called it something different because i was trying to append random numbers to itslef and it said no\n",
    "    \n",
    "    return delta_values, random_numbers_used"
   ]
  },
  {
   "cell_type": "code",
   "execution_count": 9,
   "id": "75a2547d",
   "metadata": {
    "scrolled": true
   },
   "outputs": [
    {
     "name": "stdout",
     "output_type": "stream",
     "text": [
      "DELTA VALUES: [0.0, 0.0, 0.0, 0.0, 0.0, 0.0, 0.0, 0.0, 0.0, 0.0, 0.0, 0.0, 0.0, 0.0, 0.0, 0.0, 0.0, 0.0, 0.0, 0.0, 0.0, 0.0, 0.0, 0.0, 0.0, 0.0, 0.0, 0.0, 0.0, 0.0, 0.0, 0.0, 0.0, 0.0, 0.0, 0.0, 0.0, 0.0, 0.0, 0.0, 0.0, 0.0, 0.0, 0.0, 0.0, 0.0, 0.0, 0.0, 0.0, 0.0, 0.0, 0.0, 0.0, 0.0, 0.0, 0.0, 0.0, 0.0, 0.0, 0.0, 0.0, 0.0, 0.0, 0.0, 0.0, 0.0, 0.0, 0.0, 0.0, 0.0, 0.0, 0.0, 0.0, 0.0, 0.0, 0.0, 0.0, 0.0, 0.0, 0.0, 0.0, 0.0, 0.0, 0.0, 0.0, 0.0, 0.0, 0.0, 0.0, 0.0, 0.0, 0.0, 0.0, 0.0, 0.0, 0.0, 0.0, 0.0, 0.0, 0.0]\n",
      "RANDOM NUMBERS USED: [array([ 0.470368  ,  0.59897937, -0.84507284,  0.25767556]), array([ 0.78586395, -0.31831123, -0.15225691, -0.64870856]), array([ 0.46099903, -0.65278224,  0.46666096,  0.0651621 ]), array([ 0.28524958, -0.40281592, -0.8478881 , -0.51636605]), array([ 0.4666513 ,  0.66222435, -0.2380971 , -0.17595343]), array([ 0.34599942, -0.02908936, -0.24745625,  0.84169483]), array([ 0.66240779,  0.0183812 ,  0.63471238, -0.29246791]), array([ 0.65176229,  0.63742102,  0.22783793, -0.54173838]), array([ 0.62679336, -0.98281144, -0.22969309, -0.74180545]), array([ 0.70755689, -0.20007122, -0.16703416,  0.61423496]), array([0.34466148, 0.40388045, 0.6259597 , 0.07203888]), array([ 0.2657894 , -0.49591451, -0.23195588, -0.3697311 ]), array([ 0.86670002, -0.04516154,  0.51470038,  0.49736918]), array([ 0.45739919, -0.39457225, -0.01061447,  0.60534945]), array([ 0.20570987, -0.23077299, -0.20950751,  0.71442282]), array([ 0.45194092, -0.33452039,  0.19614535, -0.97456432]), array([ 0.21470329,  0.99671492, -0.40282226, -0.77443839]), array([ 0.46358583, -0.11672455, -0.46786444, -0.30766649]), array([0.93225973, 0.08381729, 0.76349791, 0.27067305]), array([ 0.32001535, -0.84550498, -0.67442443, -0.39692809]), array([ 0.40336013, -0.29249665,  0.53719078,  0.2010658 ]), array([ 0.52358835,  0.15875204, -0.68902236, -0.76356767]), array([0.05868024, 0.46900704, 0.78722684, 0.56965541]), array([ 0.24054995, -0.79831269,  0.94312189,  0.14020607]), array([ 0.07827132,  0.81285622, -0.84568768,  0.19568141]), array([ 0.98144853,  0.98156572, -0.09266658,  0.90396352]), array([ 0.26907755, -0.79965411,  0.54221317,  0.43459955]), array([ 0.65771866, -0.1503955 , -0.64357131,  0.09376219]), array([ 0.3367578 ,  0.50702047,  0.58323221, -0.36947535]), array([ 0.92182542, -0.38055154, -0.38534166,  0.57651135]), array([ 0.63091599,  0.1129104 , -0.63021698, -0.87359036]), array([ 0.146148  , -0.18964355, -0.89519425,  0.24732615]), array([ 0.45455648,  0.35843197, -0.11315808, -0.44517857]), array([ 0.30610327, -0.82408397,  0.77604057,  0.52490302]), array([ 0.80109174,  0.81943535, -0.84745672,  0.27315438]), array([ 0.54323715, -0.68377191,  0.77286194,  0.06113142]), array([ 0.32772404, -0.35010864,  0.10860062, -0.54307535]), array([ 0.97471627, -0.6907328 ,  0.0719561 , -0.7521238 ]), array([0.03483642, 0.63347857, 0.51290381, 0.855293  ]), array([ 0.62348429,  0.09522604, -0.43703825, -0.86373567]), array([ 0.9846154 ,  0.7332103 ,  0.04472754, -0.04546525]), array([ 0.72600606, -0.34068637,  0.19291534,  0.91403139]), array([ 0.34785267,  0.94930687,  0.33523077, -0.0211509 ]), array([ 0.10063439,  0.70180761, -0.1501935 , -0.17796054]), array([ 0.5070494 , -0.0111511 , -0.55375634,  0.62215203]), array([ 0.92996931,  0.86043583,  0.62523114, -0.45224735]), array([ 0.98395209,  0.38769754, -0.97868862,  0.5343055 ]), array([ 0.77490555,  0.31035056, -0.82931718,  0.15677398]), array([ 0.8741816 , -0.42255338, -0.40823472,  0.29583478]), array([ 0.40433233,  0.32681566, -0.03428003, -0.75594763]), array([ 0.58306836, -0.7640706 , -0.04260661,  0.9632315 ]), array([ 0.52828873,  0.28626377, -0.1883427 , -0.91849267]), array([ 0.6843213 ,  0.5066521 ,  0.4054829 , -0.04695882]), array([ 0.47909882,  0.28783623,  0.95679504, -0.94752023]), array([ 0.09605735, -0.76170928, -0.16264204,  0.41212448]), array([ 0.63473308, -0.20093868,  0.61186842,  0.90961335]), array([ 0.99632975, -0.93027952, -0.93759924, -0.27753958]), array([ 0.83502676,  0.98493626,  0.32572485, -0.28322157]), array([ 0.37380258,  0.04918067,  0.62867391, -0.13010656]), array([ 0.28927197,  0.52479372,  0.36058189, -0.0260568 ]), array([ 0.00510705, -0.0697757 , -0.78875331, -0.76732098]), array([ 0.68325986, -0.69870576, -0.01902124, -0.33390454]), array([0.25710898, 0.31030468, 0.14020147, 0.25681041]), array([0.57331961, 0.56876763, 0.52378232, 0.93739926]), array([ 0.45251806,  0.93079185, -0.57630099,  0.12495452]), array([ 0.0034141 ,  0.7521538 ,  0.67273235, -0.90583871]), array([ 0.3913615 , -0.73888968, -0.9838728 ,  0.54993411]), array([ 0.96860514, -0.59719359, -0.54037014,  0.5118768 ]), array([ 0.94503213, -0.70172136,  0.81010171, -0.24200806]), array([ 0.62519101,  0.49525889,  0.99983087, -0.53127951]), array([ 0.47469651,  0.12466169,  0.6269315 , -0.52954436]), array([ 0.83621786, -0.90024625, -0.33072997, -0.46859221]), array([ 0.86313407, -0.7534664 , -0.08621005,  0.39362203]), array([ 0.95814798,  0.30195529, -0.44555295,  0.67716745]), array([0.20903457, 0.179     , 0.64589519, 0.0073948 ]), array([ 0.97284498,  0.17921133,  0.10467209, -0.10519062]), array([ 0.24387741,  0.16810963, -0.99346263, -0.58748092]), array([ 0.4278033 ,  0.19771146, -0.49086063, -0.20903294]), array([ 0.73473886,  0.64698151, -0.76349831,  0.14886892]), array([0.78466857, 0.62163198, 0.32447541, 0.68121632]), array([ 0.16255751, -0.42953129,  0.31812298,  0.3830367 ]), array([ 0.42730431,  0.11599489, -0.87047052,  0.18259807]), array([ 0.33343969,  0.7532858 , -0.17363017, -0.8556329 ]), array([0.90074285, 0.35865581, 0.27057271, 0.82004742]), array([ 0.8353674 ,  0.51924824, -0.8871197 , -0.87252479]), array([ 0.8160266 ,  0.24812629,  0.07538358, -0.47713281]), array([ 0.35962229,  0.7316169 , -0.2005476 , -0.69021465]), array([ 0.31147201,  0.54605343, -0.41117435,  0.05060777]), array([0.98624522, 0.31110599, 0.93026418, 0.03222246]), array([ 0.57329054, -0.87429747, -0.7896201 , -0.20117931]), array([ 0.9505921 , -0.15798359, -0.36073568,  0.78534491]), array([ 0.31123821,  0.95703559, -0.6744221 ,  0.93998044]), array([0.48856771, 0.93369955, 0.67227592, 0.95479631]), array([ 0.26113542, -0.36304764,  0.40032722,  0.23446868]), array([ 0.60860032,  0.43873853, -0.52512497,  0.39597634]), array([ 0.04790409,  0.06749187, -0.24784538,  0.10345988]), array([ 0.70149019,  0.89878853, -0.19345046,  0.27127426]), array([ 0.5896809 , -0.85188696,  0.96418761, -0.43071483]), array([0.929395  , 0.16736055, 0.25967059, 0.83886674]), array([ 0.27609283, -0.76498752,  0.2826778 ,  0.52018686])]\n"
     ]
    }
   ],
   "source": [
    "N = 100\n",
    "delta_values, random_numbers_used = trial_loop(N) #run like this to capture outputs\n",
    "\n",
    "print(\"DELTA VALUES:\", delta_values)\n",
    "print(\"RANDOM NUMBERS USED:\", random_numbers_used)"
   ]
  },
  {
   "cell_type": "code",
   "execution_count": null,
   "id": "8999bd0e",
   "metadata": {},
   "outputs": [],
   "source": []
  },
  {
   "cell_type": "code",
   "execution_count": null,
   "id": "bc06c685",
   "metadata": {},
   "outputs": [],
   "source": []
  },
  {
   "cell_type": "code",
   "execution_count": null,
   "id": "e4479ee1",
   "metadata": {},
   "outputs": [],
   "source": []
  }
 ],
 "metadata": {
  "kernelspec": {
   "display_name": "Python 3 (ipykernel)",
   "language": "python",
   "name": "python3"
  },
  "language_info": {
   "codemirror_mode": {
    "name": "ipython",
    "version": 3
   },
   "file_extension": ".py",
   "mimetype": "text/x-python",
   "name": "python",
   "nbconvert_exporter": "python",
   "pygments_lexer": "ipython3",
   "version": "3.9.13"
  }
 },
 "nbformat": 4,
 "nbformat_minor": 5
}
