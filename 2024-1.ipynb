{
 "cells": [
  {
   "cell_type": "code",
   "execution_count": 1,
   "id": "be049316",
   "metadata": {},
   "outputs": [],
   "source": [
    "import numpy as np\n",
    "import random\n",
    "import matplotlib.pyplot as plt"
   ]
  },
  {
   "cell_type": "markdown",
   "id": "3eecd604",
   "metadata": {},
   "source": [
    "## 1: Create function to convert (P0, p) to $\\rho$ matrix\n",
    "- input array of 4 numbers \n",
    "- outputs complex valued 2x2 matrix"
   ]
  },
  {
   "cell_type": "code",
   "execution_count": 2,
   "id": "e7914518",
   "metadata": {},
   "outputs": [],
   "source": [
    "#######1b: make function\n",
    "    #found np.tensordot, generalization of dot product better for higher dimensional arrays\n",
    "    ###np.tensordot(vector 1, vector 2, axes=1) where axes=1 means sum over one axis of each \n",
    "    ###array like how a normal dot product would do: corresponding elements are multiplied and then summed up\n",
    "\n",
    "def create_density_matrix(p0xyz):\n",
    "    P0, Px, Py, Pz = p0xyz # \"unpacking array\"\n",
    "\n",
    "    identity_matrix = np.zeros((2,2), dtype = 'complex128')\n",
    "    identity_matrix[0,0]= 1\n",
    "    identity_matrix[1,1] = 1\n",
    "\n",
    "    pauli_x = np.zeros((2,2), dtype = 'complex128')\n",
    "    pauli_x[0,1]= 1\n",
    "    pauli_x[1,0] = 1\n",
    "\n",
    "    pauli_y = np.zeros((2,2), dtype = 'complex128')\n",
    "    pauli_y[0,1]= -1j\n",
    "    pauli_y[1,0] = 1j\n",
    "\n",
    "    pauli_z = np.zeros((2,2), dtype = 'complex128')\n",
    "    pauli_z[0,0]= 1\n",
    "    pauli_z[1,1] = -1\n",
    "    \n",
    "    p = np.array([Px, Py, Pz])\n",
    "\n",
    "    pauli_basis = np.array([pauli_x, pauli_y, pauli_z]) #define pauli basis, 3D array-set of 2x2 matrices\n",
    "\n",
    "    p_dot_pauli = np.tensordot(p, pauli_basis, axes=1) #p dot pauli, multiplies px,py,pz by pauli xyz\n",
    "\n",
    "    density_matrix = 0.5 * P0 * (identity_matrix + p_dot_pauli)\n",
    "   \n",
    "    return density_matrix"
   ]
  },
  {
   "cell_type": "code",
   "execution_count": 3,
   "id": "d9ac1755",
   "metadata": {},
   "outputs": [
    {
     "name": "stdout",
     "output_type": "stream",
     "text": [
      "[[0.75+0.j   0.25+0.25j]\n",
      " [0.25-0.25j 0.25+0.j  ]]\n"
     ]
    }
   ],
   "source": [
    "#testing\n",
    "p0xyz = [1, 0.5, -0.5, 0.5]\n",
    "density_matrix = create_density_matrix(p0xyz)\n",
    "print(density_matrix)"
   ]
  },
  {
   "cell_type": "markdown",
   "id": "66fe490c",
   "metadata": {},
   "source": [
    "## 2: Testing Function\n",
    "- (2a) create function with no inputs but outputs an array of 4 random real numbers\n",
    "- (2b) create function that inputs array and outputs 2x2 matrix"
   ]
  },
  {
   "cell_type": "code",
   "execution_count": 4,
   "id": "da92c49e",
   "metadata": {},
   "outputs": [
    {
     "name": "stdout",
     "output_type": "stream",
     "text": [
      "[0.6497974959830457, 0.07233640188690393, -0.5147018816454827, -0.5500297115320272]\n"
     ]
    }
   ],
   "source": [
    "##2a: random number generator\n",
    "def generate_random_numbers():\n",
    "    first_number = random.uniform(0, 1)\n",
    "    second_number = random.uniform(-1, 1)\n",
    "    third_number = random.uniform(-1, 1)\n",
    "    fourth_number = random.uniform(-1, 1)\n",
    "    results = [first_number, second_number, third_number, fourth_number]\n",
    "    return results\n",
    "\n",
    "random_numbers = generate_random_numbers()\n",
    "print(random_numbers)"
   ]
  },
  {
   "cell_type": "code",
   "execution_count": 5,
   "id": "b2dad057",
   "metadata": {},
   "outputs": [
    {
     "data": {
      "text/plain": [
       "array([[0.60685499+0.j        , 0.16967771-0.26084365j],\n",
       "       [0.16967771+0.26084365j, 0.13677572+0.j        ]])"
      ]
     },
     "execution_count": 5,
     "metadata": {},
     "output_type": "execute_result"
    }
   ],
   "source": [
    "##2b: this function takes an array-ANY array-and tests the density matrix made earlier with that array\n",
    "def test_density_matrix(array):\n",
    "    density_matrix_test = create_density_matrix(array)\n",
    "    return (density_matrix_test)\n",
    "\n",
    "random_numbers = generate_random_numbers()\n",
    "test_density_matrix(random_numbers)"
   ]
  },
  {
   "cell_type": "markdown",
   "id": "dd7fb01a",
   "metadata": {},
   "source": [
    "## 3: Comparing function\n",
    "- (3a) create function that inputs complex valued matrix (L and M) and outputs the normalized difference\n",
    "- (3b) create loop that does whole thing"
   ]
  },
  {
   "cell_type": "code",
   "execution_count": 6,
   "id": "1898b9a8",
   "metadata": {},
   "outputs": [],
   "source": [
    "##3a: create function that inputs complex valued matrix (L and M) and outputs the normalized difference\n",
    "    #L matrix is output of create_density_matrix\n",
    "    #M is output of test_density_matrix\n",
    "\n",
    "def norm_diff(L, M):\n",
    "    LminusM = L - M\n",
    "    mag_LminusM = np.sqrt(np.abs(LminusM)**2)\n",
    "    mag_L = np.sqrt(np.abs(L)**2)\n",
    "    mag_M = np.sqrt(np.abs(M)**2)\n",
    "    delta = mag_LminusM / (mag_L + mag_M)\n",
    "    \n",
    "    return delta"
   ]
  },
  {
   "cell_type": "code",
   "execution_count": 7,
   "id": "e0ea1417",
   "metadata": {},
   "outputs": [
    {
     "data": {
      "text/plain": [
       "array([[0., 0.],\n",
       "       [0., 0.]])"
      ]
     },
     "execution_count": 7,
     "metadata": {},
     "output_type": "execute_result"
    }
   ],
   "source": [
    "L = create_density_matrix(random_numbers) #come back to this\n",
    "M = test_density_matrix(random_numbers)\n",
    "\n",
    "norm_diff(L,M)"
   ]
  },
  {
   "cell_type": "markdown",
   "id": "09adfd0f",
   "metadata": {},
   "source": [
    "# QUESTIONS\n",
    "- have to run random number generator before.... put it in the function???\n",
    "- are these the two correct functions I am supposed to compare? they are the same no?\n",
    "- should they both just recieve an array of random numbers?"
   ]
  },
  {
   "cell_type": "code",
   "execution_count": 8,
   "id": "0d432831",
   "metadata": {},
   "outputs": [],
   "source": [
    "##3b: create loop\n",
    "\n",
    "def trial_loop(N): \n",
    "\n",
    "    delta_values = [] #an empty list so i can append later\n",
    "    random_numbers = []\n",
    "\n",
    "    for i in range(N):\n",
    "        #create random array\n",
    "        random_numbers = generate_random_numbers()\n",
    "\n",
    "        #compute density matrix both ways\n",
    "        L = create_density_matrix(random_numbers)\n",
    "        M = test_density_matrix(random_numbers)\n",
    "\n",
    "        #compare the matrices\n",
    "        delta = norm_diff(L, M)\n",
    "\n",
    "        #save the delta values into an array and append the random arrays to a list\n",
    "        delta_values.append(delta)\n",
    "        random_numbers.append(random_numbers)\n",
    "    \n",
    "    return delta_values, random_numbers"
   ]
  },
  {
   "cell_type": "code",
   "execution_count": 9,
   "id": "75a2547d",
   "metadata": {},
   "outputs": [
    {
     "name": "stdout",
     "output_type": "stream",
     "text": [
      "delta_values: [array([[0., 0.],\n",
      "       [0., 0.]]), array([[0., 0.],\n",
      "       [0., 0.]]), array([[0., 0.],\n",
      "       [0., 0.]]), array([[0., 0.],\n",
      "       [0., 0.]]), array([[0., 0.],\n",
      "       [0., 0.]]), array([[0., 0.],\n",
      "       [0., 0.]]), array([[0., 0.],\n",
      "       [0., 0.]]), array([[0., 0.],\n",
      "       [0., 0.]]), array([[0., 0.],\n",
      "       [0., 0.]]), array([[0., 0.],\n",
      "       [0., 0.]]), array([[0., 0.],\n",
      "       [0., 0.]]), array([[0., 0.],\n",
      "       [0., 0.]]), array([[0., 0.],\n",
      "       [0., 0.]]), array([[0., 0.],\n",
      "       [0., 0.]]), array([[0., 0.],\n",
      "       [0., 0.]]), array([[0., 0.],\n",
      "       [0., 0.]]), array([[0., 0.],\n",
      "       [0., 0.]]), array([[0., 0.],\n",
      "       [0., 0.]]), array([[0., 0.],\n",
      "       [0., 0.]]), array([[0., 0.],\n",
      "       [0., 0.]]), array([[0., 0.],\n",
      "       [0., 0.]]), array([[0., 0.],\n",
      "       [0., 0.]]), array([[0., 0.],\n",
      "       [0., 0.]]), array([[0., 0.],\n",
      "       [0., 0.]]), array([[0., 0.],\n",
      "       [0., 0.]]), array([[0., 0.],\n",
      "       [0., 0.]]), array([[0., 0.],\n",
      "       [0., 0.]]), array([[0., 0.],\n",
      "       [0., 0.]]), array([[0., 0.],\n",
      "       [0., 0.]]), array([[0., 0.],\n",
      "       [0., 0.]]), array([[0., 0.],\n",
      "       [0., 0.]]), array([[0., 0.],\n",
      "       [0., 0.]]), array([[0., 0.],\n",
      "       [0., 0.]]), array([[0., 0.],\n",
      "       [0., 0.]]), array([[0., 0.],\n",
      "       [0., 0.]]), array([[0., 0.],\n",
      "       [0., 0.]]), array([[0., 0.],\n",
      "       [0., 0.]]), array([[0., 0.],\n",
      "       [0., 0.]]), array([[0., 0.],\n",
      "       [0., 0.]]), array([[0., 0.],\n",
      "       [0., 0.]]), array([[0., 0.],\n",
      "       [0., 0.]]), array([[0., 0.],\n",
      "       [0., 0.]]), array([[0., 0.],\n",
      "       [0., 0.]]), array([[0., 0.],\n",
      "       [0., 0.]]), array([[0., 0.],\n",
      "       [0., 0.]]), array([[0., 0.],\n",
      "       [0., 0.]]), array([[0., 0.],\n",
      "       [0., 0.]]), array([[0., 0.],\n",
      "       [0., 0.]]), array([[0., 0.],\n",
      "       [0., 0.]]), array([[0., 0.],\n",
      "       [0., 0.]]), array([[0., 0.],\n",
      "       [0., 0.]]), array([[0., 0.],\n",
      "       [0., 0.]]), array([[0., 0.],\n",
      "       [0., 0.]]), array([[0., 0.],\n",
      "       [0., 0.]]), array([[0., 0.],\n",
      "       [0., 0.]]), array([[0., 0.],\n",
      "       [0., 0.]]), array([[0., 0.],\n",
      "       [0., 0.]]), array([[0., 0.],\n",
      "       [0., 0.]]), array([[0., 0.],\n",
      "       [0., 0.]]), array([[0., 0.],\n",
      "       [0., 0.]]), array([[0., 0.],\n",
      "       [0., 0.]]), array([[0., 0.],\n",
      "       [0., 0.]]), array([[0., 0.],\n",
      "       [0., 0.]]), array([[0., 0.],\n",
      "       [0., 0.]]), array([[0., 0.],\n",
      "       [0., 0.]]), array([[0., 0.],\n",
      "       [0., 0.]]), array([[0., 0.],\n",
      "       [0., 0.]]), array([[0., 0.],\n",
      "       [0., 0.]]), array([[0., 0.],\n",
      "       [0., 0.]]), array([[0., 0.],\n",
      "       [0., 0.]]), array([[0., 0.],\n",
      "       [0., 0.]]), array([[0., 0.],\n",
      "       [0., 0.]]), array([[0., 0.],\n",
      "       [0., 0.]]), array([[0., 0.],\n",
      "       [0., 0.]]), array([[0., 0.],\n",
      "       [0., 0.]]), array([[0., 0.],\n",
      "       [0., 0.]]), array([[0., 0.],\n",
      "       [0., 0.]]), array([[0., 0.],\n",
      "       [0., 0.]]), array([[0., 0.],\n",
      "       [0., 0.]]), array([[0., 0.],\n",
      "       [0., 0.]]), array([[0., 0.],\n",
      "       [0., 0.]]), array([[0., 0.],\n",
      "       [0., 0.]]), array([[0., 0.],\n",
      "       [0., 0.]]), array([[0., 0.],\n",
      "       [0., 0.]]), array([[0., 0.],\n",
      "       [0., 0.]]), array([[0., 0.],\n",
      "       [0., 0.]]), array([[0., 0.],\n",
      "       [0., 0.]]), array([[0., 0.],\n",
      "       [0., 0.]]), array([[0., 0.],\n",
      "       [0., 0.]]), array([[0., 0.],\n",
      "       [0., 0.]]), array([[0., 0.],\n",
      "       [0., 0.]]), array([[0., 0.],\n",
      "       [0., 0.]]), array([[0., 0.],\n",
      "       [0., 0.]]), array([[0., 0.],\n",
      "       [0., 0.]]), array([[0., 0.],\n",
      "       [0., 0.]]), array([[0., 0.],\n",
      "       [0., 0.]]), array([[0., 0.],\n",
      "       [0., 0.]]), array([[0., 0.],\n",
      "       [0., 0.]]), array([[0., 0.],\n",
      "       [0., 0.]]), array([[0., 0.],\n",
      "       [0., 0.]])]\n",
      "random_numbers: [0.9378361436112638, -0.9410246953658918, -0.2701975334872295, -0.20660607748538862, [...]]\n"
     ]
    }
   ],
   "source": [
    "N = 100\n",
    "delta_values, random_numbers = trial_loop(N) #run like this to capture outputs\n",
    "\n",
    "print(\"delta_values:\", delta_values)\n",
    "print(\"random_numbers:\", random_numbers)"
   ]
  },
  {
   "cell_type": "code",
   "execution_count": null,
   "id": "8999bd0e",
   "metadata": {},
   "outputs": [],
   "source": []
  }
 ],
 "metadata": {
  "kernelspec": {
   "display_name": "Python 3 (ipykernel)",
   "language": "python",
   "name": "python3"
  },
  "language_info": {
   "codemirror_mode": {
    "name": "ipython",
    "version": 3
   },
   "file_extension": ".py",
   "mimetype": "text/x-python",
   "name": "python",
   "nbconvert_exporter": "python",
   "pygments_lexer": "ipython3",
   "version": "3.9.13"
  }
 },
 "nbformat": 4,
 "nbformat_minor": 5
}
