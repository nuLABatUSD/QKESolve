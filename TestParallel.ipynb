{
 "cells": [
  {
   "cell_type": "code",
   "execution_count": 1,
   "id": "eb0f4e33",
   "metadata": {},
   "outputs": [],
   "source": [
    "import numpy as np\n",
    "import numba as nb\n",
    "import Ivvsc"
   ]
  },
  {
   "cell_type": "code",
   "execution_count": 4,
   "id": "3ab8b4bc",
   "metadata": {},
   "outputs": [],
   "source": [
    "e_max = 10\n",
    "B = 2\n",
    "\n",
    "N = 21\n",
    "p = np.linspace(0,e_max, N)\n",
    "delta_p = p[1] - p[0]\n",
    "\n",
    "\n",
    "N2 = 41\n",
    "p2 = np.linspace(0, e_max, N2)\n",
    "delta_p2 = p2[1] - p2[0]\n",
    "\n",
    "N_full = 201\n",
    "p_full = np.linspace(0, e_max, N_full)\n",
    "delta_pfull = p_full[1] - p_full[0]\n",
    "\n",
    "data35 = np.load(\"Run35.npz\", allow_pickle=True)\n",
    "settings = data35['settings'].item()\n",
    "raw = data35['raw'].item()\n",
    "prob = data35['prob'].item()"
   ]
  },
  {
   "cell_type": "code",
   "execution_count": 5,
   "id": "3fd34d3d",
   "metadata": {},
   "outputs": [],
   "source": [
    "y_mat = np.zeros((725,20,4))\n",
    "y_mat = raw['nu3D'][:,9::10,:]\n",
    "\n",
    "y_mat2 = np.zeros((725,40,4))\n",
    "y_mat2[:,:,:] = raw['nu3D'][:,4::5,:]"
   ]
  },
  {
   "cell_type": "code",
   "execution_count": 9,
   "id": "4c6d4418",
   "metadata": {},
   "outputs": [
    {
     "name": "stdout",
     "output_type": "stream",
     "text": [
      "CPU times: user 254 ms, sys: 888 µs, total: 255 ms\n",
      "Wall time: 255 ms\n"
     ]
    }
   ],
   "source": [
    "%%time\n",
    "cc = Ivvsc.C_Ivvsc(y_mat[1], p, e_max, B, delta_p)"
   ]
  },
  {
   "cell_type": "code",
   "execution_count": 10,
   "id": "982ec9f1",
   "metadata": {},
   "outputs": [
    {
     "name": "stdout",
     "output_type": "stream",
     "text": [
      "CPU times: user 2.11 s, sys: 6.5 ms, total: 2.12 s\n",
      "Wall time: 282 ms\n"
     ]
    }
   ],
   "source": [
    "%%time\n",
    "cc = Ivvsc.C_Ivvsc_p(y_mat[1], p, e_max, B, delta_p)"
   ]
  },
  {
   "cell_type": "code",
   "execution_count": 8,
   "id": "4f9a97df",
   "metadata": {},
   "outputs": [],
   "source": [
    "N_threads = nb.config.NUMBA_DEFAULT_NUM_THREADS"
   ]
  },
  {
   "cell_type": "code",
   "execution_count": null,
   "id": "97bca533",
   "metadata": {},
   "outputs": [],
   "source": [
    "%%time\n",
    "cc = Ivvsc.C_Ivvsc(raw['nu3D'][1], p_full, e_max, B, delta_pfull)"
   ]
  },
  {
   "cell_type": "code",
   "execution_count": null,
   "id": "0d62f0dd",
   "metadata": {},
   "outputs": [],
   "source": [
    "%%time\n",
    "cc = Ivvsc.C_Ivvsc_p(raw['nu3D'][1], p_full, e_max, B, delta_pfull)"
   ]
  },
  {
   "cell_type": "code",
   "execution_count": null,
   "id": "e10c140f",
   "metadata": {},
   "outputs": [],
   "source": [
    "nb.set_num_threads(int(N_threads/4))"
   ]
  },
  {
   "cell_type": "code",
   "execution_count": null,
   "id": "81b72352",
   "metadata": {},
   "outputs": [],
   "source": [
    "%%time\n",
    "cc = Ivvsc.C_Ivvsc_p(raw['nu3D'][1], p_full, e_max, B, delta_pfull)"
   ]
  },
  {
   "cell_type": "code",
   "execution_count": null,
   "id": "feb77061",
   "metadata": {},
   "outputs": [],
   "source": [
    "nb.set_num_threads(int(N_threads/2))"
   ]
  },
  {
   "cell_type": "code",
   "execution_count": null,
   "id": "b0702854",
   "metadata": {},
   "outputs": [],
   "source": [
    "%%time\n",
    "cc = Ivvsc.C_Ivvsc_p(raw['nu3D'][1], p_full, e_max, B, delta_pfull)"
   ]
  },
  {
   "cell_type": "code",
   "execution_count": null,
   "id": "4a740ac4",
   "metadata": {},
   "outputs": [],
   "source": [
    "nb.set_num_threads(int(N_threads*0.75))"
   ]
  },
  {
   "cell_type": "code",
   "execution_count": null,
   "id": "90c749a3",
   "metadata": {},
   "outputs": [],
   "source": [
    "%%time\n",
    "cc = Ivvsc.C_Ivvsc_p(raw['nu3D'][1], p_full, e_max, B, delta_pfull)"
   ]
  }
 ],
 "metadata": {
  "kernelspec": {
   "display_name": "Python 3",
   "language": "python",
   "name": "python3"
  },
  "language_info": {
   "codemirror_mode": {
    "name": "ipython",
    "version": 3
   },
   "file_extension": ".py",
   "mimetype": "text/x-python",
   "name": "python",
   "nbconvert_exporter": "python",
   "pygments_lexer": "ipython3",
   "version": "3.8.8"
  }
 },
 "nbformat": 4,
 "nbformat_minor": 5
}
