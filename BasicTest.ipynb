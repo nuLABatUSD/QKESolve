{
 "cells": [
  {
   "cell_type": "markdown",
   "id": "7350bb07",
   "metadata": {},
   "source": [
    "This is an example of using ``ODESolve``.  It will work while ``derivatives.py`` still returns ``[1, x, 1/(x+1)]``, but will not work once ``derivatives.py`` is edited for new problems.\n",
    "\n",
    "``ODESolve`` is a fast ODE solver, but requires the derivatives to be ``f(x,y,p)`` in the file ``derivatives.py``."
   ]
  },
  {
   "cell_type": "code",
   "execution_count": 1,
   "id": "60202443",
   "metadata": {},
   "outputs": [],
   "source": [
    "import numpy as np\n",
    "import matplotlib.pyplot as plt\n",
    "import ODESolve as ODE"
   ]
  },
  {
   "cell_type": "code",
   "execution_count": 2,
   "id": "e50b99ff",
   "metadata": {},
   "outputs": [],
   "source": [
    "x0 = 0\n",
    "y0 = np.zeros(3)\n",
    "y0[:] = [1, 1, 1]\n",
    "dx0 = 0.01\n",
    "p = 0\n",
    "N_step = 100\n",
    "dN = 1\n",
    "x_final = 100"
   ]
  },
  {
   "cell_type": "code",
   "execution_count": 3,
   "id": "137053db",
   "metadata": {},
   "outputs": [
    {
     "ename": "ValueError",
     "evalue": "unable to broadcast argument 2 to output array\nFile \"/Users/delaneyjannone/QKESolve/ODESolve.py\", line 1, ",
     "output_type": "error",
     "traceback": [
      "\u001b[0;31m---------------------------------------------------------------------------\u001b[0m",
      "\u001b[0;31mValueError\u001b[0m                                Traceback (most recent call last)",
      "Input \u001b[0;32mIn [3]\u001b[0m, in \u001b[0;36m<cell line: 1>\u001b[0;34m()\u001b[0m\n\u001b[0;32m----> 1\u001b[0m x, y, dx, end \u001b[38;5;241m=\u001b[39m \u001b[43mODE\u001b[49m\u001b[38;5;241;43m.\u001b[39;49m\u001b[43mODEOneRun\u001b[49m\u001b[43m(\u001b[49m\u001b[43mx0\u001b[49m\u001b[43m,\u001b[49m\u001b[43m \u001b[49m\u001b[43my0\u001b[49m\u001b[43m,\u001b[49m\u001b[43m \u001b[49m\u001b[43mdx0\u001b[49m\u001b[43m,\u001b[49m\u001b[43m \u001b[49m\u001b[43mp\u001b[49m\u001b[43m,\u001b[49m\u001b[43m \u001b[49m\u001b[43mN_step\u001b[49m\u001b[43m,\u001b[49m\u001b[43m \u001b[49m\u001b[43mdN\u001b[49m\u001b[43m,\u001b[49m\u001b[43m \u001b[49m\u001b[43mx_final\u001b[49m\u001b[43m)\u001b[49m\n",
      "\u001b[0;31mValueError\u001b[0m: unable to broadcast argument 2 to output array\nFile \"/Users/delaneyjannone/QKESolve/ODESolve.py\", line 1, "
     ]
    }
   ],
   "source": [
    "x, y, dx, end = ODE.ODEOneRun(x0, y0, dx0, p, N_step, dN, x_final)"
   ]
  },
  {
   "cell_type": "code",
   "execution_count": null,
   "id": "8a3d0e62",
   "metadata": {},
   "outputs": [],
   "source": [
    "print(end)"
   ]
  },
  {
   "cell_type": "code",
   "execution_count": null,
   "id": "5c0176a1",
   "metadata": {},
   "outputs": [],
   "source": [
    "print(x)"
   ]
  },
  {
   "cell_type": "code",
   "execution_count": null,
   "id": "c8ee1b7e",
   "metadata": {},
   "outputs": [],
   "source": [
    "x_check = np.linspace(0,100,1000)\n",
    "y0_check = x_check + 1\n",
    "y1_check = x_check**2 / 2 + 1\n",
    "y2_check = np.log(x_check+1) + 1"
   ]
  },
  {
   "cell_type": "code",
   "execution_count": null,
   "id": "1a740ca1",
   "metadata": {},
   "outputs": [],
   "source": [
    "print(y)"
   ]
  },
  {
   "cell_type": "code",
   "execution_count": null,
   "id": "1efe5478",
   "metadata": {},
   "outputs": [],
   "source": [
    "plt.figure()\n",
    "plt.plot(x_check, y0_check, color = 'k')\n",
    "plt.plot(x, y[:,0], 'o')\n",
    "plt.show()"
   ]
  },
  {
   "cell_type": "code",
   "execution_count": null,
   "id": "3bcc8517",
   "metadata": {},
   "outputs": [],
   "source": [
    "plt.figure()\n",
    "plt.plot(x_check, y1_check, color = 'k')\n",
    "plt.plot(x, y[:,1], 'o')\n",
    "plt.show()"
   ]
  },
  {
   "cell_type": "code",
   "execution_count": null,
   "id": "d9d25730",
   "metadata": {},
   "outputs": [],
   "source": [
    "plt.figure()\n",
    "plt.plot(x_check, y2_check, color = 'k')\n",
    "plt.plot(x, y[:,2], 'o')\n",
    "plt.show()"
   ]
  },
  {
   "cell_type": "code",
   "execution_count": null,
   "id": "c46245eb",
   "metadata": {},
   "outputs": [],
   "source": []
  }
 ],
 "metadata": {
  "kernelspec": {
   "display_name": "Python 3 (ipykernel)",
   "language": "python",
   "name": "python3"
  },
  "language_info": {
   "codemirror_mode": {
    "name": "ipython",
    "version": 3
   },
   "file_extension": ".py",
   "mimetype": "text/x-python",
   "name": "python",
   "nbconvert_exporter": "python",
   "pygments_lexer": "ipython3",
   "version": "3.9.12"
  }
 },
 "nbformat": 4,
 "nbformat_minor": 5
}
