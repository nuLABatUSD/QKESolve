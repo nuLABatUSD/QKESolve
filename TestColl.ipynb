{
 "cells": [
  {
   "cell_type": "code",
   "execution_count": 1,
   "id": "267e91bf",
   "metadata": {},
   "outputs": [],
   "source": [
    "import numpy as np\n",
    "import numba as nb\n",
    "import Ivvsc\n",
    "import importlib"
   ]
  },
  {
   "cell_type": "code",
   "execution_count": 4,
   "id": "7bfd5825",
   "metadata": {},
   "outputs": [],
   "source": [
    "e_max = 10\n",
    "B = 2"
   ]
  },
  {
   "cell_type": "code",
   "execution_count": 5,
   "id": "48734729",
   "metadata": {},
   "outputs": [],
   "source": [
    "N = 21\n",
    "p = np.linspace(0,e_max, N)\n",
    "delta_p = p[1] - p[0]\n",
    "\n",
    "\n",
    "N2 = 41\n",
    "p2 = np.linspace(0, e_max, N2)\n",
    "delta_p2 = p2[1] - p2[0]\n",
    "\n",
    "N_full = 201\n",
    "p_full = np.linspace(0, e_max, N_full)\n",
    "delta_pfull = p_full[1] - p_full[0]"
   ]
  },
  {
   "cell_type": "code",
   "execution_count": 6,
   "id": "117659aa",
   "metadata": {},
   "outputs": [],
   "source": [
    "data35 = np.load(\"Run35.npz\", allow_pickle=True)\n",
    "settings = data35['settings'].item()\n",
    "raw = data35['raw'].item()\n",
    "prob = data35['prob'].item()"
   ]
  },
  {
   "cell_type": "code",
   "execution_count": 7,
   "id": "dddbf335",
   "metadata": {},
   "outputs": [],
   "source": [
    "y_mat = np.zeros((725,20,4))\n",
    "y_mat = raw['nu3D'][:,9::10,:]\n",
    "\n",
    "y_mat2 = np.zeros((725,40,4))\n",
    "y_mat2[:,:,:] = raw['nu3D'][:,4::5,:]"
   ]
  },
  {
   "cell_type": "code",
   "execution_count": 2,
   "id": "a1eeefc4",
   "metadata": {},
   "outputs": [
    {
     "data": {
      "text/plain": [
       "8"
      ]
     },
     "execution_count": 2,
     "metadata": {},
     "output_type": "execute_result"
    }
   ],
   "source": [
    "nb.get_num_threads()"
   ]
  },
  {
   "cell_type": "code",
   "execution_count": 3,
   "id": "696e536d",
   "metadata": {},
   "outputs": [],
   "source": [
    "nb.set_num_threads(4)"
   ]
  },
  {
   "cell_type": "code",
   "execution_count": 12,
   "id": "0e9acbc3",
   "metadata": {},
   "outputs": [
    {
     "name": "stdout",
     "output_type": "stream",
     "text": [
      "CPU times: user 276 ms, sys: 1.22 ms, total: 278 ms\n",
      "Wall time: 278 ms\n"
     ]
    }
   ],
   "source": [
    "%%time\n",
    "cc = Ivvsc.C_Ivvsc(y_mat[1], p, e_max, B, delta_p)"
   ]
  },
  {
   "cell_type": "code",
   "execution_count": 13,
   "id": "995aab67",
   "metadata": {},
   "outputs": [
    {
     "name": "stdout",
     "output_type": "stream",
     "text": [
      "CPU times: user 627 ms, sys: 3.96 ms, total: 631 ms\n",
      "Wall time: 165 ms\n"
     ]
    }
   ],
   "source": [
    "%%time\n",
    "cc = Ivvsc.C_Ivvsc_p(y_mat[1], p, e_max, B, delta_p)"
   ]
  },
  {
   "cell_type": "code",
   "execution_count": 14,
   "id": "5de8a629",
   "metadata": {},
   "outputs": [
    {
     "name": "stdout",
     "output_type": "stream",
     "text": [
      "CPU times: user 1.72 s, sys: 2.88 ms, total: 1.72 s\n",
      "Wall time: 1.72 s\n"
     ]
    }
   ],
   "source": [
    "%%time\n",
    "cc = Ivvsc.C_Ivvsc(y_mat2[1], p2, e_max, B, delta_p2)"
   ]
  },
  {
   "cell_type": "code",
   "execution_count": 15,
   "id": "83701485",
   "metadata": {},
   "outputs": [
    {
     "name": "stdout",
     "output_type": "stream",
     "text": [
      "CPU times: user 4.6 s, sys: 27 ms, total: 4.63 s\n",
      "Wall time: 1.23 s\n"
     ]
    }
   ],
   "source": [
    "%%time\n",
    "cc = Ivvsc.C_Ivvsc_p(y_mat2[1], p2, e_max, B, delta_p2)"
   ]
  },
  {
   "cell_type": "code",
   "execution_count": null,
   "id": "461a9801",
   "metadata": {},
   "outputs": [],
   "source": []
  },
  {
   "cell_type": "code",
   "execution_count": null,
   "id": "cadb11b2",
   "metadata": {},
   "outputs": [],
   "source": []
  },
  {
   "cell_type": "code",
   "execution_count": null,
   "id": "ac2d6c3e",
   "metadata": {},
   "outputs": [],
   "source": []
  },
  {
   "cell_type": "code",
   "execution_count": null,
   "id": "768c3bce",
   "metadata": {},
   "outputs": [],
   "source": [
    "%%time\n",
    "cc = Ivvsc.C_Ivvsc(raw['nu3D'][1], p_full, e_max, B, delta_pfull)"
   ]
  },
  {
   "cell_type": "code",
   "execution_count": 11,
   "id": "343601d6",
   "metadata": {},
   "outputs": [
    {
     "name": "stdout",
     "output_type": "stream",
     "text": [
      "CPU times: user 28min 16s, sys: 18.1 s, total: 28min 34s\n",
      "Wall time: 3min 55s\n"
     ]
    }
   ],
   "source": [
    "%%time\n",
    "cc = Ivvsc.C_Ivvsc_p(raw['nu3D'][1], p_full, e_max, B, delta_pfull)"
   ]
  },
  {
   "cell_type": "code",
   "execution_count": 12,
   "id": "e75832d0",
   "metadata": {},
   "outputs": [
    {
     "name": "stdout",
     "output_type": "stream",
     "text": [
      "0.05\n"
     ]
    }
   ],
   "source": [
    "print(delta_pfull)"
   ]
  },
  {
   "cell_type": "code",
   "execution_count": 24,
   "id": "452c883b",
   "metadata": {},
   "outputs": [
    {
     "name": "stdout",
     "output_type": "stream",
     "text": [
      "CPU times: user 7min 3s, sys: 3.37 s, total: 7min 7s\n",
      "Wall time: 2min 27s\n"
     ]
    }
   ],
   "source": [
    "%%time\n",
    "cc = Ivvsc.C_Ivvsc_p(raw['nu3D'][1], p_full, e_max, B, delta_pfull)"
   ]
  },
  {
   "cell_type": "code",
   "execution_count": null,
   "id": "78835cdd",
   "metadata": {},
   "outputs": [],
   "source": []
  }
 ],
 "metadata": {
  "kernelspec": {
   "display_name": "Python 3",
   "language": "python",
   "name": "python3"
  },
  "language_info": {
   "codemirror_mode": {
    "name": "ipython",
    "version": 3
   },
   "file_extension": ".py",
   "mimetype": "text/x-python",
   "name": "python",
   "nbconvert_exporter": "python",
   "pygments_lexer": "ipython3",
   "version": "3.8.8"
  }
 },
 "nbformat": 4,
 "nbformat_minor": 5
}
