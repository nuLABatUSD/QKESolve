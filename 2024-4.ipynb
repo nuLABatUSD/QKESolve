{
 "cells": [
  {
   "cell_type": "code",
   "execution_count": 1,
   "id": "638dc094",
   "metadata": {},
   "outputs": [],
   "source": [
    "import numpy as np\n",
    "import numba as nb\n",
    "import random\n",
    "import matplotlib.pyplot as plt\n",
    "import Fvvsc"
   ]
  },
  {
   "cell_type": "markdown",
   "id": "6183ec6e",
   "metadata": {},
   "source": [
    "- (1a) load data from delaney's folder\n",
    "- (1b) creat function:\n",
    "    - input N x 4 matrix with all the density matrix info\n",
    "    - output: N x N$_{\\mathrm{big}}$ x N$_{\\mathrm{big}}$ x 4 matrix that holds the components of F(p1, p2, p3)"
   ]
  },
  {
   "cell_type": "code",
   "execution_count": 2,
   "id": "31af21c6",
   "metadata": {},
   "outputs": [
    {
     "data": {
      "text/plain": [
       "dict_keys(['initial array', 'time', 'dt', 'dN', 'nu3D', 'nubar3D', 'nu_init matrix', 'nu_bar_init matrix'])"
      ]
     },
     "execution_count": 2,
     "metadata": {},
     "output_type": "execute_result"
    }
   ],
   "source": [
    "#1a\n",
    "data = np.load('Run35.npz', allow_pickle = True)\n",
    "rawdata = data['raw'].item() #loads dictionary\n",
    "rawdata.keys() # shows stored info"
   ]
  },
  {
   "cell_type": "code",
   "execution_count": 3,
   "id": "32cc0f08",
   "metadata": {},
   "outputs": [
    {
     "data": {
      "text/plain": [
       "array([[[ 4.87502604e-01,  0.00000000e+00,  0.00000000e+00,\n",
       "          1.00000000e+00],\n",
       "        [ 4.75020813e-01,  0.00000000e+00,  0.00000000e+00,\n",
       "          1.00000000e+00],\n",
       "        [ 4.62570155e-01,  0.00000000e+00,  0.00000000e+00,\n",
       "          1.00000000e+00],\n",
       "        ...,\n",
       "        [ 5.01721647e-05,  0.00000000e+00,  0.00000000e+00,\n",
       "          1.00000000e+00],\n",
       "        [ 4.77253561e-05,  0.00000000e+00,  0.00000000e+00,\n",
       "          1.00000000e+00],\n",
       "        [ 4.53978687e-05,  0.00000000e+00,  0.00000000e+00,\n",
       "          1.00000000e+00]],\n",
       "\n",
       "       [[ 4.87502836e-01, -4.27087541e-02, -2.79853529e-02,\n",
       "          9.98695088e-01],\n",
       "        [ 4.75021265e-01, -3.79413304e-02, -1.43663969e-02,\n",
       "          9.99175790e-01],\n",
       "        [ 4.62570815e-01, -3.70438631e-02, -9.60371930e-03,\n",
       "          9.99266153e-01],\n",
       "        ...,\n",
       "        [ 5.01768944e-05, -3.62791892e-02,  2.58726903e-03,\n",
       "          9.99293030e-01],\n",
       "        [ 4.77298779e-05, -3.62787153e-02,  2.60180908e-03,\n",
       "          9.99292781e-01],\n",
       "        [ 4.54021916e-05, -3.62782388e-02,  2.61634167e-03,\n",
       "          9.99292532e-01]],\n",
       "\n",
       "       [[ 4.87503056e-01, -5.73419075e-01, -3.87628044e-02,\n",
       "          8.18343611e-01],\n",
       "        [ 4.75021693e-01, -5.59143043e-01, -2.15615946e-02,\n",
       "          8.28788685e-01],\n",
       "        [ 4.62571440e-01, -5.56381570e-01, -1.46085790e-02,\n",
       "          8.30795393e-01],\n",
       "        ...,\n",
       "        [ 5.01813664e-05, -5.53947112e-01,  5.39289298e-03,\n",
       "          8.32430945e-01],\n",
       "        [ 4.77341533e-05, -5.53945259e-01,  5.42236328e-03,\n",
       "          8.32431465e-01],\n",
       "        [ 4.54062789e-05, -5.53943398e-01,  5.45182155e-03,\n",
       "          8.32431989e-01]],\n",
       "\n",
       "       ...,\n",
       "\n",
       "       [[ 4.87739557e-01, -7.79177602e-01,  4.45197697e-02,\n",
       "          6.24556310e-01],\n",
       "        [ 4.75482445e-01, -8.87197462e-01, -4.83644893e-03,\n",
       "          4.59582242e-01],\n",
       "        [ 4.63244218e-01, -8.70836956e-01, -6.99681553e-02,\n",
       "          4.84064457e-01],\n",
       "        ...,\n",
       "        [ 5.47450124e-05, -8.55771883e-01, -2.63662648e-02,\n",
       "          4.45098775e-01],\n",
       "        [ 5.20961111e-05, -8.58000901e-01, -1.80463749e-02,\n",
       "          4.40851751e-01],\n",
       "        [ 4.95753683e-05, -8.59366997e-01, -8.90280750e-03,\n",
       "          4.38110726e-01]],\n",
       "\n",
       "       [[ 4.87739979e-01, -7.86236168e-01, -3.51668618e-02,\n",
       "          6.16250520e-01],\n",
       "        [ 4.75483292e-01, -8.90827509e-01,  3.62193773e-02,\n",
       "          4.51076979e-01],\n",
       "        [ 4.63245452e-01, -8.86789057e-01, -4.76840082e-02,\n",
       "          4.57054054e-01],\n",
       "        ...,\n",
       "        [ 5.47529616e-05, -8.63641467e-01, -2.30367250e-02,\n",
       "          4.29716059e-01],\n",
       "        [ 5.21037126e-05, -8.65470691e-01, -1.43402281e-02,\n",
       "          4.26035847e-01],\n",
       "        [ 4.95826349e-05, -8.66427903e-01, -4.96216738e-03,\n",
       "          4.23934451e-01]],\n",
       "\n",
       "       [[ 4.87740362e-01, -7.27465670e-01, -9.23126460e-02,\n",
       "          6.79293292e-01],\n",
       "        [ 4.75484055e-01, -8.10746806e-01,  6.75985841e-02,\n",
       "          5.80063427e-01],\n",
       "        [ 4.63246567e-01, -8.23825142e-01, -2.52594676e-02,\n",
       "          5.64125494e-01],\n",
       "        ...,\n",
       "        [ 5.47601315e-05, -7.99845940e-01, -1.99628012e-02,\n",
       "          5.39285972e-01],\n",
       "        [ 5.21105681e-05, -8.01763759e-01, -1.09755022e-02,\n",
       "          5.36399853e-01],\n",
       "        [ 4.95891874e-05, -8.02577011e-01, -1.43963186e-03,\n",
       "          5.35003884e-01]]])"
      ]
     },
     "execution_count": 3,
     "metadata": {},
     "output_type": "execute_result"
    }
   ],
   "source": [
    "nu3D = rawdata['nu3D'] #3D matrix N_time x N x 4\n",
    "# N_time is the number of time steps so [0,:,:] is a matrix for the first time steps\n",
    "nu3D"
   ]
  },
  {
   "cell_type": "code",
   "execution_count": 4,
   "id": "4b974816",
   "metadata": {},
   "outputs": [
    {
     "data": {
      "text/plain": [
       "array([0.4875026, 0.       , 0.       , 1.       ])"
      ]
     },
     "execution_count": 4,
     "metadata": {},
     "output_type": "execute_result"
    }
   ],
   "source": [
    "nu3D[0,0,:]"
   ]
  },
  {
   "cell_type": "code",
   "execution_count": 67,
   "id": "141f7627",
   "metadata": {},
   "outputs": [],
   "source": [
    "#1b\n",
    "zero_array = np.zeros(4) # for out of range energy values, but as global variable"
   ]
  },
  {
   "cell_type": "code",
   "execution_count": 134,
   "id": "b1b691b5",
   "metadata": {},
   "outputs": [],
   "source": [
    "def compute_F_matrix(density_matrix):\n",
    "    B = 2\n",
    "    Nbig = B * N\n",
    "   \n",
    "    # Initialize the output matrix with zeros\n",
    "    F_matrix = np.zeros((N, Nbig, Nbig, 4), dtype=np.complex128)\n",
    "\n",
    "    for i in range(N): # dimension i is N because p1 goes from 0 to emax\n",
    "        for j in range(Nbig): # dimension j is Nbig because p2 goes from 0 to B*emax\n",
    "            for k in range(Nbig): # dimension k is Nbig because p3 goes from 0 to B*emax\n",
    "                \n",
    "                l = i + j - k # because p4 = p1 + p2 - p3 (feynmann diagram)\n",
    "    \n",
    "                p0xyz_1 = density_matrix[i, :]\n",
    "            \n",
    "                if j < N:\n",
    "                    p0xyz_2 = density_matrix[j, :]\n",
    "                else: \n",
    "                    zero_array\n",
    "                \n",
    "                if k < N:\n",
    "                    p0xyz_3 = density_matrix[k, :]\n",
    "                else: \n",
    "                    zero_array\n",
    "                \n",
    "                if l < 0 or l >= N:\n",
    "                # when i didnt do this and just had l<0 i had problems... so here ya go\n",
    "                    p0xyz_4 = zero_array \n",
    "                else:\n",
    "                    p0xyz_4 = density_matrix[l, :]\n",
    "               \n",
    "            # WAIT THIS IS BACKWARDS\n",
    "            \n",
    "                # get F components for this combination of energy values (is it energies?)\n",
    "                F_matrix[i, j, k, :] = Fvvsc.Fvvsc_components(p0xyz_1, p0xyz_2, p0xyz_3, p0xyz_4)\n",
    "\n",
    "    return F_matrix\n"
   ]
  },
  {
   "cell_type": "code",
   "execution_count": 135,
   "id": "b5e6db9c",
   "metadata": {},
   "outputs": [
    {
     "data": {
      "text/plain": [
       "array([[[0.46515899+0.j, 0.08023261+0.j, 0.07067739+0.j, 0.12228036+0.j],\n",
       "        [0.44561793+0.j, 0.09337657+0.j, 0.08225598+0.j, 0.1423127 +0.j]],\n",
       "\n",
       "       [[0.44561793+0.j, 0.09337657+0.j, 0.08225598+0.j, 0.1423127 +0.j],\n",
       "        [0.46515899+0.j, 0.08023261+0.j, 0.07067739+0.j, 0.12228036+0.j]]])"
      ]
     },
     "execution_count": 135,
     "metadata": {},
     "output_type": "execute_result"
    }
   ],
   "source": [
    "N = 1 \n",
    "emax = 10 \n",
    "B = 2 \n",
    "Nbig = B*N\n",
    "#delta = something??? i dont get what im supposed to do with delta\n",
    "\n",
    "density_matrix_rand = np.random.rand(N, 4) # N rows each have 4 random numbers\n",
    "# but instead of random numbers its the energy values\n",
    "# or do i use the random number generator i made bc need complex ones too\n",
    "\n",
    "F_matrix = compute_F_matrix(density_matrix_rand)\n",
    "\n",
    "F_matrix[0,:,:,:]\n",
    "#F_matrix"
   ]
  },
  {
   "cell_type": "markdown",
   "id": "0a22d13b",
   "metadata": {},
   "source": [
    "- need to use actual density matrix input but still confused about where to get that... \n",
    "wait was this the intermediate step i was supposed to do"
   ]
  },
  {
   "cell_type": "markdown",
   "id": "eb9715e6",
   "metadata": {},
   "source": [
    "# QUESTION: \n",
    "was the intermediate step i was supposed to do make an Nx4 matrix with p1,p2,p3? but thats N x 3?\n",
    "\n",
    "[[p1a, p2a, p3a, p4a]\n",
    "p1b, p2b, p3b, p4b], \n",
    "[p1c, p2c, p3c, p4c],\n",
    "....\n",
    "[p1n, p2n, p3n, p4n]] \n",
    "\n",
    "like that? like n of them but then p1 is actually just which array it is and then p1,p2,p3 are the next three so actually p2, p3, p4?"
   ]
  },
  {
   "cell_type": "code",
   "execution_count": null,
   "id": "900cc7b5",
   "metadata": {},
   "outputs": [],
   "source": []
  }
 ],
 "metadata": {
  "kernelspec": {
   "display_name": "Python 3 (ipykernel)",
   "language": "python",
   "name": "python3"
  },
  "language_info": {
   "codemirror_mode": {
    "name": "ipython",
    "version": 3
   },
   "file_extension": ".py",
   "mimetype": "text/x-python",
   "name": "python",
   "nbconvert_exporter": "python",
   "pygments_lexer": "ipython3",
   "version": "3.9.13"
  }
 },
 "nbformat": 4,
 "nbformat_minor": 5
}
