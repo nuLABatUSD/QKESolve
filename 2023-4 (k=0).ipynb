{
 "cells": [
  {
   "cell_type": "code",
   "execution_count": 1,
   "id": "ad851c0d",
   "metadata": {},
   "outputs": [],
   "source": [
    "import numpy as np\n",
    "import numba as nb\n",
    "import matplotlib.pyplot as plt\n",
    "import ODESolve as ODE\n",
    "import ODESolve_slow as ODEslow\n",
    "import derivatives as der"
   ]
  },
  {
   "cell_type": "code",
   "execution_count": 2,
   "id": "2ab74fd5",
   "metadata": {},
   "outputs": [],
   "source": [
    "#initial conditions, thermal distribution od ve, zero vm"
   ]
  },
  {
   "cell_type": "code",
   "execution_count": 3,
   "id": "23ef806a",
   "metadata": {},
   "outputs": [],
   "source": [
    "N=100\n",
    "Emax= 10\n",
    "dm2= 2\n",
    "th= .5*np.arcsin(.8)\n",
    "\n",
    "Eval= np.linspace(Emax/N, Emax, N)\n",
    "\n",
    "ym0= np.zeros((N,4))\n",
    "for i in range(len(ym0)):\n",
    "    p0= 1/(np.exp(Eval[i])+1)\n",
    "    ym0[i,:]= [p0,0,0,1]\n",
    "\n",
    "\n",
    "p= np.zeros(N+2)\n",
    "p[-1]= dm2\n",
    "p[-2]= th\n",
    "p[:N]= np.linspace(Emax/N, Emax, N)"
   ]
  },
  {
   "cell_type": "code",
   "execution_count": 4,
   "id": "597b75c9",
   "metadata": {},
   "outputs": [],
   "source": [
    "def matrix_maker(y):\n",
    "    length= len(y)\n",
    "    matrix = np.zeros((length//4,4))\n",
    "    \n",
    "    for i in range(matrix.shape[0]):\n",
    "        for j in range(4):\n",
    "            matrix[i,j]= y[4*i+j]\n",
    "    return matrix\n",
    "\n",
    "\n",
    "def array_maker(M):\n",
    "    length= M.shape[0]\n",
    "    array = np.zeros(length*4)\n",
    "    \n",
    "    for i in range(M.shape[0]):\n",
    "        for j in range(4):\n",
    "            array[4*i+j] = M[i,j]\n",
    "            \n",
    "    return array  \n",
    "\n",
    "def threeD(y):\n",
    "    d= matrix_maker(y[0,:])\n",
    "    matrix= np.zeros((y.shape[0], d.shape[0], 4))\n",
    "                    \n",
    "    for i in range(y.shape[0]):\n",
    "        matrix[i,:,:]= matrix_maker(y[i,:])\n",
    "    \n",
    "    return matrix\n",
    "\n",
    "\n",
    "\n",
    "def dndE(ym0, Eval):\n",
    "    array= np.zeros(len(ym0))\n",
    "    for i in range(len(array)):\n",
    "        p0= ym0[i,0]\n",
    "        E= Eval[i]\n",
    "        pz= ym0[i, 3]\n",
    "        array[i]= .5* p0*(1+pz)*(E**2/2*np.pi**2)\n",
    "        \n",
    "    return array\n",
    "\n",
    "y0= array_maker(ym0)\n",
    "t0= 0"
   ]
  },
  {
   "cell_type": "code",
   "execution_count": 5,
   "id": "839b48ee",
   "metadata": {},
   "outputs": [
    {
     "data": {
      "image/png": "[encoded data removed]",
      "text/plain": [
       "<Figure size 432x288 with 1 Axes>"
      ]
     },
     "metadata": {
      "needs_background": "light"
     },
     "output_type": "display_data"
    }
   ],
   "source": [
    "t0= 0\n",
    "y0= array_maker(ym0)\n",
    "t0= 0\n",
    "dt0=  0.01/.8\n",
    "N_step = 100               \n",
    "dN = 100\n",
    "t_final = 10 \n",
    "\n",
    "\n",
    "t, y, dx, end = ODE.ODEOneRun(t0, y0, dt0, p, N_step, dN, t_final)\n",
    "\n",
    "resultsMatrix= threeD(y)\n",
    "ics= dndE(resultsMatrix[0, :, :], Eval)\n",
    "later= dndE(resultsMatrix[10, :, :], Eval)\n",
    "\n",
    "\n",
    "plt.figure()\n",
    "plt.plot(Eval, ics, color= 'red')\n",
    "plt.plot(Eval, later, color= 'blue')\n",
    "plt.show()"
   ]
  },
  {
   "cell_type": "code",
   "execution_count": 6,
   "id": "1bb2862f",
   "metadata": {},
   "outputs": [],
   "source": [
    "#this is a snapshot in time of where different energy values are in their oscillation. \n",
    "#red is initial condition. x axis is energy\n",
    "#at high energies, after the 10 time steps theres basically no different of probability (oscillation frequency is really small)\n",
    "#certain energies are lined back up with the inital conditon bc it has already gone through a whole oscilation and probability is back to the initial\n"
   ]
  },
  {
   "cell_type": "code",
   "execution_count": 7,
   "id": "097508d2",
   "metadata": {},
   "outputs": [],
   "source": [
    "#want to find probability that neutrino is initially ve and then later measured as ve..\n",
    "\n",
    "#integrate over all energies "
   ]
  },
  {
   "cell_type": "code",
   "execution_count": 8,
   "id": "08f2219c",
   "metadata": {},
   "outputs": [],
   "source": [
    "def n_ve(ym0, Eval):\n",
    "    array= dndE(ym0, Eval)\n",
    "    nve= np.trapz(array, Eval)\n",
    "    \n",
    "    return nve"
   ]
  },
  {
   "cell_type": "code",
   "execution_count": 9,
   "id": "f7893427",
   "metadata": {},
   "outputs": [
    {
     "name": "stdout",
     "output_type": "stream",
     "text": [
      "12\n"
     ]
    }
   ],
   "source": [
    "n_ve(resultsMatrix[0,:,:], Eval)\n",
    "#number density of ve at initial conditon\n",
    "\n",
    "print(len(t))"
   ]
  },
  {
   "cell_type": "code",
   "execution_count": 10,
   "id": "8146eb6f",
   "metadata": {},
   "outputs": [],
   "source": [
    "def probability(ym0, Eval, t, y):\n",
    "    resultsMatrix= threeD(y)\n",
    "    array= dndE(ym0, Eval)\n",
    "    initial= n_ve(resultsMatrix[0,:,:], Eval)\n",
    "    later= np.zeros(len(t))\n",
    "    prob_ve= np.zeros(len(t))\n",
    "    \n",
    "    for i in range(len(t)):\n",
    "        later[i]= n_ve(resultsMatrix[i,:,:], Eval)\n",
    "        prob_ve[i]= later[i]/ initial\n",
    "    return prob_ve"
   ]
  },
  {
   "cell_type": "code",
   "execution_count": 11,
   "id": "a814ce26",
   "metadata": {},
   "outputs": [
    {
     "data": {
      "image/png": "[encoded data removed]",
      "text/plain": [
       "<Figure size 432x288 with 1 Axes>"
      ]
     },
     "metadata": {
      "needs_background": "light"
     },
     "output_type": "display_data"
    }
   ],
   "source": [
    "prob_ve= der.probability(ym0, Eval, t, y)\n",
    "tau= (dm2/(2*2.2))*t\n",
    "\n",
    "plt.figure()\n",
    "plt.plot(tau, prob_ve)\n",
    "plt.show()\n",
    "\n"
   ]
  }
 ],
 "metadata": {
  "kernelspec": {
   "display_name": "Python 3 (ipykernel)",
   "language": "python",
   "name": "python3"
  },
  "language_info": {
   "codemirror_mode": {
    "name": "ipython",
    "version": 3
   },
   "file_extension": ".py",
   "mimetype": "text/x-python",
   "name": "python",
   "nbconvert_exporter": "python",
   "pygments_lexer": "ipython3",
   "version": "3.9.12"
  }
 },
 "nbformat": 4,
 "nbformat_minor": 5
}
