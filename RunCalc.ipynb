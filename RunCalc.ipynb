{
 "cells": [
  {
   "cell_type": "code",
   "execution_count": 1,
   "id": "8efec716",
   "metadata": {},
   "outputs": [],
   "source": [
    "import numpy as np\n",
    "import numba as nb\n",
    "import Ivvsc\n",
    "import importlib\n",
    "import time"
   ]
  },
  {
   "cell_type": "code",
   "execution_count": 2,
   "id": "736be4f7",
   "metadata": {},
   "outputs": [],
   "source": [
    "filename = \"T100TTFT.npz\""
   ]
  },
  {
   "cell_type": "code",
   "execution_count": 3,
   "id": "861419e3",
   "metadata": {},
   "outputs": [],
   "source": [
    "data = np.load(filename, allow_pickle=True)\n",
    "settings = data['settings'].item()\n",
    "raw = data['raw'].item()\n",
    "prob = data['prob'].item()"
   ]
  },
  {
   "cell_type": "code",
   "execution_count": 4,
   "id": "cbb86d57",
   "metadata": {},
   "outputs": [],
   "source": [
    "N = settings['N'] + 1\n",
    "e_max = settings['eps_max']\n",
    "B = 2\n",
    "\n",
    "p = np.linspace(0, e_max, N)\n",
    "delta_p = p[1] - p[0]"
   ]
  },
  {
   "cell_type": "code",
   "execution_count": 5,
   "id": "b738657c",
   "metadata": {},
   "outputs": [],
   "source": [
    "def calc_c(data, dN, p, e_max, B, dp, output_filename = \"data\"):\n",
    "    C_full = np.zeros_like(data)\n",
    "    \n",
    "    N_total = len(data)\n",
    "    \n",
    "    N_steps = N_total // dN\n",
    "    \n",
    "    time_array = np.zeros(N_steps)\n",
    "    \n",
    "    for i in range(N_steps):\n",
    "        beg = time.time()\n",
    "        for j in range(dN):\n",
    "            index = i * dN + j\n",
    "            print(\"Time step {} / {}\".format(index+1, N_total))\n",
    "            C_full[index, :, :] = Ivvsc.C_Ivvsc(data[index,:,:], p, e_max, B, dp)\n",
    "        np.savez(output_filename + \"-\" + str(i), C = C_full[:(i+1)*dN,:,:], p = p)\n",
    "        print(\"File {}-{}.npz number {} of {}.\".format(output_filename, i, i+1, N_steps))\n",
    "        time_array[i] = (time.time() - beg) \n",
    "        time_string = \"{:.1f}\\% done. total time: {:.2f} hrs ({:.1f} min for last file)\".format(100*(index+1)/N_total, np.sum(time_array)/60/60, time_array[i]/60)\n",
    "        print(time_string)\n",
    "        \n",
    "    if index != len(data) - 1:\n",
    "        i = N_steps\n",
    "        for k in range(index+1, len(data)):\n",
    "            C_full[k, :, :] = Ivvsc.C_Ivvsc(data[k,:,:], p, e_max, B, dp)\n",
    "            \n",
    "        \n",
    "    np.savez(output_filename, C = C_full[:(i+1)*dN,:,:], p = p)\n",
    "            \n",
    "    return"
   ]
  },
  {
   "cell_type": "code",
   "execution_count": null,
   "id": "0aa33e7c",
   "metadata": {},
   "outputs": [
    {
     "name": "stdout",
     "output_type": "stream",
     "text": [
      "Time step 1 / 759\n"
     ]
    }
   ],
   "source": [
    "%%time\n",
    "calc_c(raw['nu3D'], 75, p, e_max, B, delta_p, output_filename=\"test\")"
   ]
  },
  {
   "cell_type": "code",
   "execution_count": null,
   "id": "64230316",
   "metadata": {},
   "outputs": [],
   "source": []
  }
 ],
 "metadata": {
  "kernelspec": {
   "display_name": "Python 3",
   "language": "python",
   "name": "python3"
  },
  "language_info": {
   "codemirror_mode": {
    "name": "ipython",
    "version": 3
   },
   "file_extension": ".py",
   "mimetype": "text/x-python",
   "name": "python",
   "nbconvert_exporter": "python",
   "pygments_lexer": "ipython3",
   "version": "3.8.8"
  }
 },
 "nbformat": 4,
 "nbformat_minor": 5
}
