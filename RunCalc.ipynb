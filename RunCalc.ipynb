{
 "cells": [
  {
   "cell_type": "code",
   "execution_count": 15,
   "id": "b6b0bc3c",
   "metadata": {},
   "outputs": [],
   "source": [
    "import numpy as np\n",
    "import numba as nb\n",
    "import Ivvsc\n",
    "import importlib\n",
    "import time"
   ]
  },
  {
   "cell_type": "code",
   "execution_count": 14,
   "id": "c403bb3c",
   "metadata": {},
   "outputs": [],
   "source": [
    "data35 = np.load(\"Run35.npz\", allow_pickle=True)\n",
    "settings = data35['settings'].item()\n",
    "raw = data35['raw'].item()\n",
    "prob = data35['prob'].item()"
   ]
  },
  {
   "cell_type": "code",
   "execution_count": 27,
   "id": "c4ae0f95",
   "metadata": {},
   "outputs": [],
   "source": [
    "N = 201\n",
    "e_max = 10\n",
    "B = 2\n",
    "\n",
    "p = np.linspace(0, e_max, N)\n",
    "delta_p = p[1] - p[0]"
   ]
  },
  {
   "cell_type": "code",
   "execution_count": 28,
   "id": "b40774f9",
   "metadata": {},
   "outputs": [],
   "source": [
    "def calc_c(data, dN, p, e_max, B, dp, output_filename = \"data\"):\n",
    "    C_full = np.zeros_like(data)\n",
    "    \n",
    "    N_steps = len(data) // dN\n",
    "    \n",
    "    for i in range(N_steps):\n",
    "        beg = time.time()\n",
    "        for j in range(dN):\n",
    "            index = i * dN + j\n",
    "            print(index)\n",
    "            C_full[index, :, :] = Ivvsc.C_Ivvsc(data[index,:,:], p, e_max, B, dp)\n",
    "        np.savez(output_filename + \"-\" + str(i), C = C_full[:i*dN,:,:], p = p)\n",
    "        print(time.time() - beg)"
   ]
  },
  {
   "cell_type": "code",
   "execution_count": null,
   "id": "26b309e7",
   "metadata": {},
   "outputs": [
    {
     "name": "stdout",
     "output_type": "stream",
     "text": [
      "0\n"
     ]
    }
   ],
   "source": [
    "calc_c(raw['nu3D'], 2, p, e_max, B, delta_p, output_filename=\"test\")"
   ]
  },
  {
   "cell_type": "code",
   "execution_count": 16,
   "id": "49766baa",
   "metadata": {},
   "outputs": [],
   "source": [
    "c = time.time()"
   ]
  },
  {
   "cell_type": "code",
   "execution_count": 22,
   "id": "519edd10",
   "metadata": {},
   "outputs": [
    {
     "name": "stdout",
     "output_type": "stream",
     "text": [
      "17.679455995559692\n"
     ]
    }
   ],
   "source": [
    "print(time.time() - c)"
   ]
  },
  {
   "cell_type": "code",
   "execution_count": null,
   "id": "7bcaabc1",
   "metadata": {},
   "outputs": [],
   "source": []
  }
 ],
 "metadata": {
  "kernelspec": {
   "display_name": "Python 3",
   "language": "python",
   "name": "python3"
  },
  "language_info": {
   "codemirror_mode": {
    "name": "ipython",
    "version": 3
   },
   "file_extension": ".py",
   "mimetype": "text/x-python",
   "name": "python",
   "nbconvert_exporter": "python",
   "pygments_lexer": "ipython3",
   "version": "3.8.8"
  }
 },
 "nbformat": 4,
 "nbformat_minor": 5
}
