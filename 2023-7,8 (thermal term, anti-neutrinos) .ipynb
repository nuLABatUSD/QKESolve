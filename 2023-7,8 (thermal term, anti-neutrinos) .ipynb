{
 "cells": [
  {
   "cell_type": "code",
   "execution_count": 1,
   "id": "e61688b1",
   "metadata": {},
   "outputs": [],
   "source": [
    "import numpy as np\n",
    "import numpy.polynomial.laguerre as geek\n",
    "import numba as nb\n",
    "import matplotlib.pyplot as plt\n",
    "import ODESolve as ODE\n",
    "import ODESolve_slow as ODEslow\n",
    "import derivatives as der"
   ]
  },
  {
   "cell_type": "code",
   "execution_count": 2,
   "id": "127d96f8",
   "metadata": {},
   "outputs": [
    {
     "name": "stdout",
     "output_type": "stream",
     "text": [
      "0.24782897078275284\n"
     ]
    }
   ],
   "source": [
    "#T given k\n",
    "\n",
    "k= 10\n",
    "t= (k/2650.89)**.25\n",
    "print(t)"
   ]
  },
  {
   "cell_type": "code",
   "execution_count": 3,
   "id": "e1f96151",
   "metadata": {},
   "outputs": [
    {
     "name": "stdout",
     "output_type": "stream",
     "text": [
      "42414.24\n"
     ]
    }
   ],
   "source": [
    "#k given t\n",
    "\n",
    "t= 2\n",
    "k= 2650.89*t**4\n",
    "print(k)"
   ]
  },
  {
   "cell_type": "code",
   "execution_count": 4,
   "id": "6aa4f45b",
   "metadata": {},
   "outputs": [],
   "source": [
    "N=100\n",
    "Emax= 10\n",
    "dm2= 2.5*10**-15\n",
    "th= .5*np.arcsin(.8)\n",
    "T= .5                   # T= (k/2650.89)^.25\n",
    "cT= 0\n",
    "\n",
    "Eval= np.linspace(Emax/N, Emax, N)\n",
    "\n",
    "\n",
    "ym0= np.zeros((N,4))\n",
    "for i in range(len(ym0)):\n",
    "    p0= 1/(np.exp(Eval[i])+1)\n",
    "    ym0[i,:]= [p0,0,0,1]\n",
    "    \n",
    "    \n",
    "p= np.zeros(N+4)\n",
    "p[-1]= dm2\n",
    "p[-2]= th\n",
    "p[:N]= np.linspace(Emax/N, Emax, N)\n",
    "p[-3]= T\n",
    "p[-4]= cT"
   ]
  },
  {
   "cell_type": "code",
   "execution_count": 5,
   "id": "073a987e",
   "metadata": {},
   "outputs": [],
   "source": [
    "def pepe(T):\n",
    "    output= (7/8)*((np.pi**2)/30)*4*T**4\n",
    "    return output"
   ]
  },
  {
   "cell_type": "code",
   "execution_count": 6,
   "id": "468e51d7",
   "metadata": {},
   "outputs": [],
   "source": [
    "def weight(x, T):\n",
    "    u= .510998/T\n",
    "    g= ((np.sqrt(x**2+u**2)*x**2*np.exp(x))/(np.exp(np.sqrt(x**2+u**2))+1))\n",
    "    return g\n",
    "\n",
    "    \n",
    "      \n",
    "def g(w,x, T):\n",
    "    summ= 0\n",
    "    for i in range(40):\n",
    "        summ= summ+ w[i]*weight(x[i], T)\n",
    "    return summ\n",
    "\n",
    "\n",
    "def VT_function(ym, Eval, T):\n",
    "    u= .510998/T\n",
    "    x, w= geek.laggauss(40)\n",
    "\n",
    "    \n",
    "    pepe= (4*T**4)/ (2*np.pi**2)* g(w,x, T)\n",
    "    v= np.zeros(3)\n",
    "    mw= 80433\n",
    "    mz= 91187.6\n",
    "    constant1= (16*np.sqrt(2)*Gf)/(3*mw**2)\n",
    "    constant2= (8*np.sqrt(2)*Gf)/(3*mz**2)\n",
    "    yx= Eval[:]**3*ym[:,0]*ym[:,1]\n",
    "    yy= Eval[:]**3*ym[:,0]*ym[:,2]\n",
    "    yz= Eval[:]**3*ym[:,0]*ym[:,3]\n",
    "    x_integral= np.trapz(yx , Eval)\n",
    "    y_integral= np.trapz(yy , Eval)\n",
    "    z_integral= np.trapz(yz , Eval)\n",
    "    v[0]= constant2*x_integral\n",
    "    v[1]= constant2*y_integral\n",
    "    v[2]= constant2*z_integral + constant1*pepe\n",
    "    \n",
    "    return -v"
   ]
  },
  {
   "cell_type": "code",
   "execution_count": 7,
   "id": "de05f27d",
   "metadata": {},
   "outputs": [
    {
     "data": {
      "image/png": "[encoded data removed]",
      "text/plain": [
       "<Figure size 432x288 with 1 Axes>"
      ]
     },
     "metadata": {
      "needs_background": "light"
     },
     "output_type": "display_data"
    },
    {
     "name": "stdout",
     "output_type": "stream",
     "text": [
      "CPU times: user 33.2 s, sys: 467 ms, total: 33.7 s\n",
      "Wall time: 34.7 s\n"
     ]
    }
   ],
   "source": [
    "%%time\n",
    "\n",
    "t0= 0\n",
    "y0= der.array_maker(ym0)\n",
    "t0= 0\n",
    "dt0=  0.01/np.max(np.abs(der.f(y0,y0,p)))\n",
    "N_step = 100              \n",
    "dN = 100\n",
    "tau_final=10\n",
    "t_final = tau_final*2*2.2*T/dm2\n",
    "\n",
    "\n",
    "t, y, dx, end = ODE.ODEOneRun(t0, y0, dt0, p, N_step, dN, t_final)\n",
    "\n",
    "prob_ve= der.probability(ym0, Eval, t, y)\n",
    "tau= (dm2/(2*2.2*T))*t\n",
    "\n",
    "plt.figure()\n",
    "plt.plot(tau, prob_ve)\n",
    "plt.xlabel(\"Tau\")\n",
    "plt.ylabel(\"Probability\")\n",
    "plt.show()\n",
    "\n",
    "\n"
   ]
  },
  {
   "cell_type": "code",
   "execution_count": 8,
   "id": "c42de5bd",
   "metadata": {},
   "outputs": [],
   "source": [
    "#ADDING ANTI-NEUTRINOS"
   ]
  },
  {
   "cell_type": "code",
   "execution_count": 9,
   "id": "68f4cd0a",
   "metadata": {},
   "outputs": [],
   "source": [
    "N=100\n",
    "Emax= 10\n",
    "dm2= 2.5*10**-15\n",
    "th= .5*np.arcsin(.8)\n",
    "T= .5                   # T= (k/2650.89)^.25\n",
    "cT= 0\n",
    "\n",
    "Eval= np.linspace(Emax/N, Emax, N)\n",
    "\n",
    "\n",
    "ym0= np.zeros((N,4))\n",
    "for i in range(len(ym0)):\n",
    "    p0= 1/(np.exp(Eval[i])+1)\n",
    "    ym0[i,:]= [p0,0,0,1]\n",
    "    \n",
    "    \n",
    "p= np.zeros(N+5)\n",
    "p[:N]= np.linspace(Emax/N, Emax, N)\n",
    "p[-1]= dm2\n",
    "p[-2]= th\n",
    "p[-3]= T\n",
    "p[-4]= cT\n",
    "p[-5]= 0\n",
    "#p[-5]= -1"
   ]
  },
  {
   "cell_type": "code",
   "execution_count": 15,
   "id": "982d5d56",
   "metadata": {},
   "outputs": [
    {
     "data": {
      "image/png": "[encoded data removed]",
      "text/plain": [
       "<Figure size 432x288 with 1 Axes>"
      ]
     },
     "metadata": {
      "needs_background": "light"
     },
     "output_type": "display_data"
    },
    {
     "name": "stdout",
     "output_type": "stream",
     "text": [
      "CPU times: user 8.42 s, sys: 109 ms, total: 8.53 s\n",
      "Wall time: 8.65 s\n"
     ]
    }
   ],
   "source": [
    "%%time\n",
    "\n",
    "t0= 0\n",
    "y0= der.array_maker(ym0)\n",
    "t0= 0\n",
    "dt0=  0.01/np.max(np.abs(der.f(y0,y0,p)))\n",
    "N_step = 100              \n",
    "dN = 100\n",
    "tau_final=10\n",
    "t_final = tau_final*2*2.2*T/dm2\n",
    "\n",
    "\n",
    "t, y, dx, end = ODE.ODEOneRun(t0, y0, dt0, p, N_step, dN, t_final)\n",
    "\n",
    "prob_ve= der.probability(ym0, Eval, t, y)\n",
    "tau= (dm2/(2*2.2*T))*t\n",
    "\n",
    "plt.figure()\n",
    "plt.plot(tau, prob_ve)\n",
    "plt.xlabel(\"Tau\")\n",
    "plt.ylabel(\"Probability\")\n",
    "plt.show()"
   ]
  },
  {
   "cell_type": "code",
   "execution_count": 16,
   "id": "e39095f6",
   "metadata": {},
   "outputs": [],
   "source": [
    "def matrix_maker(y):\n",
    "    length= len(y)\n",
    "    matrix = np.zeros((length//4,4))\n",
    "    \n",
    "    for i in range(matrix.shape[0]):\n",
    "        for j in range(4):\n",
    "            matrix[i,j]= y[4*i+j]\n",
    "    return matrix\n",
    "\n",
    "\n",
    "\n",
    "def array_maker(M):\n",
    "    length= M.shape[0]\n",
    "    array = np.zeros(length*4)\n",
    "    \n",
    "    for i in range(M.shape[0]):\n",
    "        for j in range(4):\n",
    "            array[4*i+j] = M[i,j]\n",
    "    return array"
   ]
  },
  {
   "cell_type": "code",
   "execution_count": 21,
   "id": "8d3c1080",
   "metadata": {},
   "outputs": [],
   "source": [
    "def newmatrix_maker(y):\n",
    "    N= len(y)// 2\n",
    "    Mv= matrix_maker(y[:N])\n",
    "    Mv_= matrix_maker(y[N:])\n",
    "    return Mv, Mv_\n",
    "\n",
    "\n",
    "def newarray_maker(Mv, Mvbar):\n",
    "    N= Mv.shape[0]\n",
    "    array= np.zeros(8*N)\n",
    "    array[:4*N]= array_maker(Mv)\n",
    "    array[4*N:]= array_maker(Mvbar)\n",
    "    return array"
   ]
  },
  {
   "cell_type": "code",
   "execution_count": 22,
   "id": "d53c2d48",
   "metadata": {},
   "outputs": [
    {
     "name": "stdout",
     "output_type": "stream",
     "text": [
      "[ 0  1  2  3  4  5  6  7  8  9 10 11 12 13 14 15 16 17 18 19 20 21 22 23\n",
      " 24 25 26 27 28 29 30 31 32 33 34 35 36 37 38 39]\n",
      "[[ 0.  1.  2.  3.]\n",
      " [ 4.  5.  6.  7.]\n",
      " [ 8.  9. 10. 11.]\n",
      " [12. 13. 14. 15.]\n",
      " [16. 17. 18. 19.]]\n",
      "[[20. 21. 22. 23.]\n",
      " [24. 25. 26. 27.]\n",
      " [28. 29. 30. 31.]\n",
      " [32. 33. 34. 35.]\n",
      " [36. 37. 38. 39.]]\n"
     ]
    }
   ],
   "source": [
    "test= np.arange(40)\n",
    "print(test)\n",
    "\n",
    "test1, test2= newmatrix_maker(test)\n",
    "print(test1)\n",
    "print(test2)"
   ]
  },
  {
   "cell_type": "code",
   "execution_count": 23,
   "id": "9d4283a1",
   "metadata": {},
   "outputs": [
    {
     "data": {
      "text/plain": [
       "array([ 0.,  1.,  2.,  3.,  4.,  5.,  6.,  7.,  8.,  9., 10., 11., 12.,\n",
       "       13., 14., 15., 16., 17., 18., 19., 20., 21., 22., 23., 24., 25.,\n",
       "       26., 27., 28., 29., 30., 31., 32., 33., 34., 35., 36., 37., 38.,\n",
       "       39.])"
      ]
     },
     "execution_count": 23,
     "metadata": {},
     "output_type": "execute_result"
    }
   ],
   "source": [
    "newarray_maker(test1, test2)"
   ]
  },
  {
   "cell_type": "code",
   "execution_count": null,
   "id": "59a672a4",
   "metadata": {},
   "outputs": [],
   "source": []
  }
 ],
 "metadata": {
  "kernelspec": {
   "display_name": "Python 3 (ipykernel)",
   "language": "python",
   "name": "python3"
  },
  "language_info": {
   "codemirror_mode": {
    "name": "ipython",
    "version": 3
   },
   "file_extension": ".py",
   "mimetype": "text/x-python",
   "name": "python",
   "nbconvert_exporter": "python",
   "pygments_lexer": "ipython3",
   "version": "3.9.12"
  }
 },
 "nbformat": 4,
 "nbformat_minor": 5
}
