{
 "cells": [
  {
   "cell_type": "code",
   "execution_count": 1,
   "id": "d41b40ab",
   "metadata": {},
   "outputs": [],
   "source": [
    "import numpy as np\n",
    "import numpy.polynomial.laguerre as geek\n",
    "import numba as nb\n",
    "import matplotlib.pyplot as plt\n",
    "import ODESolve as ODE\n",
    "import ODESolve_slow as ODEslow\n",
    "import derivatives as der"
   ]
  },
  {
   "cell_type": "code",
   "execution_count": 2,
   "id": "62dc90b4",
   "metadata": {},
   "outputs": [],
   "source": [
    "N=100\n",
    "Emax= 10\n",
    "dm2= 2.5*10**-15\n",
    "th= .5*np.arcsin(.8)\n",
    "T= .1                   # T= (k/2650.89)^.25\n",
    "cT= 0\n",
    "\n",
    "Eval= np.linspace(Emax/N, Emax, N)\n",
    "\n",
    "\n",
    "ym0= np.zeros((N,4))\n",
    "for i in range(len(ym0)):\n",
    "    p0= 1/(np.exp(Eval[i])+1)\n",
    "    ym0[i,:]= [p0,0,0,1]\n",
    "    \n",
    "    \n",
    "\n",
    "ym0_bar= np.zeros((N,4))\n",
    "for i in range(len(ym0_bar)):\n",
    "    p0= 1/(np.exp(Eval[i])+1)\n",
    "    ym0_bar[i,:]= [p0,0,0,1]\n",
    "    \n",
    "    \n",
    "p= np.zeros(N+5)\n",
    "p[-1]= dm2\n",
    "p[-2]= th\n",
    "p[:N]= np.linspace(Emax/N, Emax, N)\n",
    "p[-3]= T\n",
    "p[-4]= cT\n",
    "p[-5]= -1"
   ]
  },
  {
   "cell_type": "code",
   "execution_count": 3,
   "id": "99c9684c",
   "metadata": {},
   "outputs": [],
   "source": [
    "Gf= 1.1663787*10**-5*(1/(1000**2))\n",
    "def scattering(ym ,p):\n",
    "    N= ym.shape[0]\n",
    "    Eval= p[:N]*T\n",
    "    C= np.zeros((N,4))\n",
    "    for i in range(len(C)):\n",
    "        c0= (-1.27*Gf**2*T**4*Eval[i]*(.5*ym[i,0]*(1+ym[i,3])- 1/(np.exp(Eval[i])+1)))+(-.92*Gf**2*T**4*Eval[i]*(.5*ym[i,0]*(1-ym[i,3])- 1/(np.exp(Eval[i])+1)))\n",
    "        cz= (-1.27*Gf**2*T**4*Eval[i]*(.5*ym[i,0]*(1+ym[i,3])- 1/(np.exp(Eval[i])+1)))-(-.92*Gf**2*T**4*Eval[i]*(.5*ym[i,0]*(1-ym[i,3])- 1/(np.exp(Eval[i])+1)))\n",
    "        cx= (-1/2)*(1/3.15)*Gf**2*T**4*Eval[i]*.54598*ym[i,0]*ym[i,1]\n",
    "        cy= (-1/2)*(1/3.15)*Gf**2*T**4*Eval[i]*.54598*ym[i,0]*ym[i,2]\n",
    "        C[i,:]= [c0,cx,cy,cz]\n",
    "    return C\n",
    "\n",
    "\n",
    "\n",
    "\n",
    "\n",
    "def C_scat(C, ym):\n",
    "    \n",
    "    N= ym.shape[0]\n",
    "    Cscat= np.zeros((N,4))\n",
    "    for i in range(len(C)):\n",
    "        Cscat[i,0]= 0\n",
    "        Cscat[i,1]= C[i, 0]*ym[i, 1]\n",
    "        Cscat[i,2]= C[i, 0]*ym[i, 2]\n",
    "        Cscat[i,3]= C[i, 0]*ym[i, 3]\n",
    "        \n",
    "    return Cscat"
   ]
  },
  {
   "cell_type": "code",
   "execution_count": 4,
   "id": "fc3539d8",
   "metadata": {},
   "outputs": [
    {
     "data": {
      "image/png": "[encoded data removed]",
      "text/plain": [
       "<Figure size 432x288 with 1 Axes>"
      ]
     },
     "metadata": {
      "needs_background": "light"
     },
     "output_type": "display_data"
    }
   ],
   "source": [
    "t0= 0\n",
    "y0= der.array_maker(ym0)\n",
    "t0= 0\n",
    "dt0=  0.01/np.max(np.abs(der.f(y0,y0,p)))\n",
    "N_step = 100              \n",
    "dN = 100\n",
    "tau_final=10\n",
    "t_final = tau_final*2*2.2*T/dm2\n",
    "\n",
    "\n",
    "t, y, dx, end = ODE.ODEOneRun(t0, y0, dt0, p, N_step, dN, t_final)\n",
    "\n",
    "prob_ve= der.probability(ym0, Eval, t, y)\n",
    "tau= (dm2/(2*2.2*T))*t\n",
    "\n",
    "plt.figure()\n",
    "plt.plot(tau, prob_ve)\n",
    "plt.xlabel(\"Tau\")\n",
    "plt.ylabel(\"Probability\")\n",
    "plt.show()"
   ]
  },
  {
   "cell_type": "code",
   "execution_count": null,
   "id": "94ee19a1",
   "metadata": {},
   "outputs": [],
   "source": []
  }
 ],
 "metadata": {
  "kernelspec": {
   "display_name": "Python 3 (ipykernel)",
   "language": "python",
   "name": "python3"
  },
  "language_info": {
   "codemirror_mode": {
    "name": "ipython",
    "version": 3
   },
   "file_extension": ".py",
   "mimetype": "text/x-python",
   "name": "python",
   "nbconvert_exporter": "python",
   "pygments_lexer": "ipython3",
   "version": "3.9.12"
  }
 },
 "nbformat": 4,
 "nbformat_minor": 5
}
