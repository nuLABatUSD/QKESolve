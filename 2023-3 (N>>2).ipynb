{
 "cells": [
  {
   "cell_type": "code",
   "execution_count": 1,
   "id": "242918f2",
   "metadata": {},
   "outputs": [],
   "source": [
    "import numpy as np\n",
    "import numba as nb\n",
    "import matplotlib.pyplot as plt\n",
    "import ODESolve as ODE\n",
    "import ODESolve_slow as ODEslow\n",
    "import derivatives as der"
   ]
  },
  {
   "cell_type": "code",
   "execution_count": 2,
   "id": "7de5db3a",
   "metadata": {},
   "outputs": [
    {
     "name": "stdout",
     "output_type": "stream",
     "text": [
      "[0.66666667 1.33333333 2.         0.46364761 2.        ]\n"
     ]
    }
   ],
   "source": [
    "N=3\n",
    "Emax= 2\n",
    "dm2= 2\n",
    "th= .5*np.arcsin(.8)\n",
    "\n",
    "#initial conditions matrix\n",
    "ym0= np.zeros((N,4))\n",
    "for i in range(len(ym0)):\n",
    "    ym0[i,:]= [1,0,0,1]\n",
    "\n",
    "    \n",
    "\n",
    "#paramaters array\n",
    "p= np.zeros(N+2)\n",
    "p[-1]= dm2\n",
    "p[-2]= th\n",
    "p[:N]= np.linspace(Emax/N, Emax, N)\n",
    "\n",
    "print(p)"
   ]
  },
  {
   "cell_type": "code",
   "execution_count": 3,
   "id": "d15fdd9e",
   "metadata": {},
   "outputs": [],
   "source": [
    "#generalizing f\n",
    "def f(x,y,p):     \n",
    "    ym= matrix_maker(y)\n",
    "    \n",
    "    derm= np.zeros(ym.shape)\n",
    "    for i in range(derm.shape[0]):\n",
    "        derm[i,:]= der.vacuum(ym[i,:], p[0], p[-1], p[-2])\n",
    "    \n",
    "    return array_maker(derm)\n",
    "\n",
    "def matrix_maker(y):\n",
    "    length= len(y)\n",
    "    matrix = np.zeros((length//4,4))\n",
    "    \n",
    "    for i in range(matrix.shape[0]):\n",
    "        for j in range(4):\n",
    "            matrix[i,j]= y[4*i+j]\n",
    "    return matrix\n",
    "\n",
    "\n",
    "def array_maker(M):\n",
    "    length= M.shape[0]\n",
    "    array = np.zeros(length*4)\n",
    "    \n",
    "    for i in range(M.shape[0]):\n",
    "        for j in range(4):\n",
    "            array[4*i+j] = M[i,j]\n",
    "            \n",
    "    return array  "
   ]
  },
  {
   "cell_type": "code",
   "execution_count": 4,
   "id": "4ca7e039",
   "metadata": {},
   "outputs": [
    {
     "name": "stdout",
     "output_type": "stream",
     "text": [
      "[[ 0.   0.  -1.2  0. ]\n",
      " [ 0.   0.  -1.2  0. ]\n",
      " [ 0.   0.  -1.2  0. ]]\n"
     ]
    }
   ],
   "source": [
    "y0= array_maker(ym0)\n",
    "t0= 0\n",
    "\n",
    "print(matrix_maker(f(t0,y0,p)))"
   ]
  },
  {
   "cell_type": "code",
   "execution_count": 5,
   "id": "9a95cb26",
   "metadata": {},
   "outputs": [],
   "source": [
    "t0= 0\n",
    "y0= array_maker(ym0)\n",
    "t0= 0\n",
    "dt0=  0.01/.8\n",
    "N_step = 100               \n",
    "dN = 1\n",
    "t_final = 10 \n",
    "\n",
    "\n",
    "t, y, dx, end = ODE.ODEOneRun(t0, y0, dt0, p, N_step, dN, t_final)"
   ]
  },
  {
   "cell_type": "code",
   "execution_count": null,
   "id": "b54859fa",
   "metadata": {},
   "outputs": [],
   "source": []
  }
 ],
 "metadata": {
  "kernelspec": {
   "display_name": "Python 3 (ipykernel)",
   "language": "python",
   "name": "python3"
  },
  "language_info": {
   "codemirror_mode": {
    "name": "ipython",
    "version": 3
   },
   "file_extension": ".py",
   "mimetype": "text/x-python",
   "name": "python",
   "nbconvert_exporter": "python",
   "pygments_lexer": "ipython3",
   "version": "3.9.12"
  }
 },
 "nbformat": 4,
 "nbformat_minor": 5
}
