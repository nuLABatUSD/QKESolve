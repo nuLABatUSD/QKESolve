{
 "cells": [
  {
   "cell_type": "code",
   "execution_count": 1,
   "id": "c6f0c270",
   "metadata": {},
   "outputs": [],
   "source": [
    "import numpy as np\n",
    "import numpy.polynomial.laguerre as geek\n",
    "import numba as nb\n",
    "import matplotlib.pyplot as plt\n",
    "import ODESolve as ODE\n",
    "import ODESolve_slow as ODEslow\n",
    "import derivatives as der"
   ]
  },
  {
   "cell_type": "code",
   "execution_count": 2,
   "id": "b846aaa2",
   "metadata": {},
   "outputs": [
    {
     "name": "stdout",
     "output_type": "stream",
     "text": [
      "0.20839849312723444\n"
     ]
    }
   ],
   "source": [
    "#T given k\n",
    "\n",
    "k= 5\n",
    "t= (k/2650.89)**.25\n",
    "print(t)"
   ]
  },
  {
   "cell_type": "code",
   "execution_count": 3,
   "id": "213c9895",
   "metadata": {},
   "outputs": [
    {
     "name": "stdout",
     "output_type": "stream",
     "text": [
      "165.680625\n"
     ]
    }
   ],
   "source": [
    "#k given t\n",
    "\n",
    "t= .5\n",
    "k= 2650.89*t**4\n",
    "print(k)"
   ]
  },
  {
   "cell_type": "code",
   "execution_count": 13,
   "id": "bd8079d5",
   "metadata": {},
   "outputs": [],
   "source": [
    "N=100\n",
    "Emax= 10\n",
    "dm2= 2.5*10**-15\n",
    "th= .5*np.arcsin(.8)\n",
    "T= .5                     # T= (k/2650.89)^.25\n",
    "cT= 0\n",
    "\n",
    "Eval= np.linspace(Emax/N, Emax, N)\n",
    "\n",
    "\n",
    "ym0= np.zeros((N,4))\n",
    "for i in range(len(ym0)):\n",
    "    p0= 1/(np.exp(Eval[i])+1)\n",
    "    ym0[i,:]= [p0,0,0,1]\n",
    "    \n",
    "    \n",
    "p= np.zeros(N+4)\n",
    "p[-1]= dm2\n",
    "p[-2]= th\n",
    "p[:N]= np.linspace(Emax/N, Emax, N)\n",
    "p[-3]= T\n",
    "p[-4]= cT"
   ]
  },
  {
   "cell_type": "code",
   "execution_count": 14,
   "id": "92e93ee7",
   "metadata": {},
   "outputs": [],
   "source": [
    "def pepe(T):\n",
    "    output= (7/8)*((np.pi**2)/30)*4*T**4\n",
    "    return output"
   ]
  },
  {
   "cell_type": "code",
   "execution_count": 15,
   "id": "ff2629fd",
   "metadata": {},
   "outputs": [],
   "source": [
    "def weight(x, T):\n",
    "    u= .510998/T\n",
    "    g= ((np.sqrt(x**2+u**2)*x**2*np.exp(x))/(np.exp(np.sqrt(x**2+u**2))+1))\n",
    "    return g\n",
    "\n",
    "    \n",
    "      \n",
    "def g(w,x, T):\n",
    "    summ= 0\n",
    "    for i in range(40):\n",
    "        summ= summ+ w[i]*weight(x[i], T)\n",
    "    return summ\n",
    "\n",
    "\n",
    "def VT_function(ym, Eval, T):\n",
    "    u= .510998/T\n",
    "    x, w= geek.laggauss(40)\n",
    "\n",
    "    \n",
    "    pepe= (4*T**4)/ (2*np.pi**2)* g(w,x, T)\n",
    "    v= np.zeros(3)\n",
    "    mw= 80433\n",
    "    mz= 91187.6\n",
    "    constant1= (16*np.sqrt(2)*Gf)/(3*mw**2)\n",
    "    constant2= (8*np.sqrt(2)*Gf)/(3*mz**2)\n",
    "    yx= Eval[:]**3*ym[:,0]*ym[:,1]\n",
    "    yy= Eval[:]**3*ym[:,0]*ym[:,2]\n",
    "    yz= Eval[:]**3*ym[:,0]*ym[:,3]\n",
    "    x_integral= np.trapz(yx , Eval)\n",
    "    y_integral= np.trapz(yy , Eval)\n",
    "    z_integral= np.trapz(yz , Eval)\n",
    "    v[0]= constant2*x_integral\n",
    "    v[1]= constant2*y_integral\n",
    "    v[2]= constant2*z_integral + constant1*pepe\n",
    "    \n",
    "    return -v"
   ]
  },
  {
   "cell_type": "code",
   "execution_count": 16,
   "id": "f5ab6153",
   "metadata": {},
   "outputs": [
    {
     "data": {
      "image/png": "[encoded data removed]",
      "text/plain": [
       "<Figure size 432x288 with 1 Axes>"
      ]
     },
     "metadata": {
      "needs_background": "light"
     },
     "output_type": "display_data"
    },
    {
     "name": "stdout",
     "output_type": "stream",
     "text": [
      "CPU times: user 19.4 s, sys: 161 ms, total: 19.5 s\n",
      "Wall time: 19.4 s\n"
     ]
    }
   ],
   "source": [
    "%%time\n",
    "\n",
    "t0= 0\n",
    "y0= der.array_maker(ym0)\n",
    "t0= 0\n",
    "dt0=  0.01/np.max(np.abs(der.f(y0,y0,p)))\n",
    "N_step = 100               \n",
    "dN = 500\n",
    "tau_final=10\n",
    "t_final = tau_final*2*2.2/dm2\n",
    "\n",
    "\n",
    "t, y, dx, end = ODE.ODEOneRun(t0, y0, dt0, p, N_step, dN, t_final)\n",
    "\n",
    "prob_ve= der.probability(ym0, Eval, t, y)\n",
    "tau= (dm2/(2*2.2))*t\n",
    "\n",
    "plt.figure()\n",
    "plt.plot(tau, prob_ve)\n",
    "plt.xlabel(\"Tau\")\n",
    "plt.ylabel(\"Probability\")\n",
    "plt.show()\n",
    "\n",
    "\n"
   ]
  },
  {
   "cell_type": "code",
   "execution_count": null,
   "id": "e82fcbaa",
   "metadata": {},
   "outputs": [],
   "source": []
  }
 ],
 "metadata": {
  "kernelspec": {
   "display_name": "Python 3 (ipykernel)",
   "language": "python",
   "name": "python3"
  },
  "language_info": {
   "codemirror_mode": {
    "name": "ipython",
    "version": 3
   },
   "file_extension": ".py",
   "mimetype": "text/x-python",
   "name": "python",
   "nbconvert_exporter": "python",
   "pygments_lexer": "ipython3",
   "version": "3.9.12"
  }
 },
 "nbformat": 4,
 "nbformat_minor": 5
}
