{
 "cells": [
  {
   "cell_type": "code",
   "execution_count": null,
   "id": "94b4ed8c",
   "metadata": {},
   "outputs": [],
   "source": [
    "import SOLVING_QKE_FUNCTION as solve\n",
    "import numpy as np\n",
    "import derivatives as der"
   ]
  },
  {
   "cell_type": "code",
   "execution_count": null,
   "id": "0089cfc3",
   "metadata": {},
   "outputs": [],
   "source": [
    "def make_ics_eqm(N, Emax, eta_e, eta_mu):\n",
    "    eps= np.linspace(Emax/N, Emax, N)\n",
    "    ym0 = np.zeros((N,4))\n",
    "    \n",
    "    rho_ee = 1/(np.exp(eps-eta_e)+1)\n",
    "    rho_mm = 1/(np.exp(eps-eta_mu)+1)\n",
    "\n",
    "    for i in range(len(ym0)):\n",
    "        p0 = rho_ee[i] + rho_mm[i]\n",
    "        pz = (rho_ee[i] - rho_mm[i]) / p0\n",
    "        ym0[i,:] = [p0,0,0,pz]\n",
    "\n",
    "    \n",
    "    rhobar_ee = 1/(np.exp(eps+eta_e)+1)\n",
    "    rhobar_mm = 1/(np.exp(eps+eta_mu)+1)\n",
    "    \n",
    "    \n",
    "    ym0_bar= np.zeros((N,4))\n",
    "    for i in range(len(ym0_bar)):\n",
    "        p0= rhobar_ee[i] + rhobar_mm[i]\n",
    "        pz = (rhobar_ee[i] - rhobar_mm[i]) / p0\n",
    "        ym0_bar[i,:]= [p0,0,0,pz]\n",
    "        \n",
    "    return der.newarray_maker(ym0,ym0_bar)"
   ]
  },
  {
   "cell_type": "code",
   "execution_count": null,
   "id": "290beea8",
   "metadata": {},
   "outputs": [],
   "source": [
    "%%time\n",
    "T = [0.12, 0.25, 0.44, 1, 2, 4, 8]\n",
    "foldername = \"DataRun3\"\n",
    "basename = \"Run\"\n",
    "\n",
    "eta_e = 0.1\n",
    "eta_mu = -0.1\n",
    "\n",
    "y0 = make_ics_eqm(200,10,eta_e, eta_mu)\n",
    "\n",
    "for i in range(len(T)):\n",
    "    %time solve.solve_QKE(T[i], y0, True, True, foldername, \"Run3{}\".format(i), incl_collisions=True, incl_eta=True, eta_e = eta_e, eta_mu = eta_mu)    "
   ]
  }
 ],
 "metadata": {
  "kernelspec": {
   "display_name": "Python 3",
   "language": "python",
   "name": "python3"
  },
  "language_info": {
   "codemirror_mode": {
    "name": "ipython",
    "version": 3
   },
   "file_extension": ".py",
   "mimetype": "text/x-python",
   "name": "python",
   "nbconvert_exporter": "python",
   "pygments_lexer": "ipython3",
   "version": "3.8.8"
  }
 },
 "nbformat": 4,
 "nbformat_minor": 5
}
