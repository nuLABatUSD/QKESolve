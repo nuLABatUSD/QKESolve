{
 "cells": [
  {
   "cell_type": "code",
   "execution_count": 1,
   "id": "72846a95",
   "metadata": {},
   "outputs": [],
   "source": [
    "import numpy as np\n",
    "import random\n",
    "import matplotlib.pyplot as plt"
   ]
  },
  {
   "cell_type": "code",
   "execution_count": 2,
   "id": "d8a55a8f",
   "metadata": {},
   "outputs": [],
   "source": [
    "p0xyz_1 = [1j, 1, 1, 1]\n",
    "p0xyz_2 = [1, 1, 1, 1]\n",
    "p0xyz_3 = [1, 1, 1, 1]\n",
    "p0xyz_4 = [1, 1, 1, -1j]\n",
    "\n",
    "identity_matrix = np.zeros((2,2), dtype = 'complex128')\n",
    "identity_matrix[0,0]= 1\n",
    "identity_matrix[1,1] = 1"
   ]
  },
  {
   "cell_type": "code",
   "execution_count": 3,
   "id": "3a5e693e",
   "metadata": {},
   "outputs": [],
   "source": [
    "def norm_diff(L, M):\n",
    "    LminusM = L - M\n",
    "    mag_LminusM = np.sqrt(np.sum(np.abs(LminusM)**2))\n",
    "    mag_L = np.sqrt(np.sum(np.abs(L)**2))\n",
    "    mag_M = np.sqrt(np.sum(np.abs(M)**2))\n",
    "    \n",
    "    delta = mag_LminusM / (mag_L + mag_M)\n",
    "    \n",
    "    return delta\n",
    "\n",
    "def matrix_maker(m0xyz): #array to matrix\n",
    "    M0, Mx, My, Mz = m0xyz\n",
    "    \n",
    "    identity_matrix = np.zeros((2,2), dtype = 'complex128')\n",
    "    identity_matrix[0,0]= 1\n",
    "    identity_matrix[1,1] = 1\n",
    "\n",
    "    pauli_x = np.zeros((2,2), dtype = 'complex128')\n",
    "    pauli_x[0,1]= 1\n",
    "    pauli_x[1,0] = 1\n",
    "\n",
    "    pauli_y = np.zeros((2,2), dtype = 'complex128')\n",
    "    pauli_y[0,1]= -1j\n",
    "    pauli_y[1,0] = 1j\n",
    "\n",
    "    pauli_z = np.zeros((2,2), dtype = 'complex128')\n",
    "    pauli_z[0,0]= 1\n",
    "    pauli_z[1,1] = -1\n",
    "    \n",
    "    m = np.array([Mx, My, Mz])\n",
    "    \n",
    "    pauli_basis = np.array([pauli_x, pauli_y, pauli_z])\n",
    "    \n",
    "    m_dot_pauli = np.tensordot(m, pauli_basis, axes=1)\n",
    "    \n",
    "    matrix = M0 * identity_matrix + m_dot_pauli\n",
    "    \n",
    "    return matrix\n",
    "\n",
    "def random_complex_numbers():\n",
    "    real_parts = np.random.randn(4)\n",
    "    imaginary_parts = np.random.randn(4)\n",
    "    complex_numbers = real_parts + 1j*imaginary_parts\n",
    "    return complex_numbers"
   ]
  },
  {
   "cell_type": "code",
   "execution_count": 4,
   "id": "2c8792a2",
   "metadata": {},
   "outputs": [],
   "source": [
    "def matrix_mult_arrays(a0xyz, b0xyz): #arrays to array, used to be calculate_c0xyz\n",
    "    A0, Ax, Ay, Az = a0xyz\n",
    "    B0, Bx, By, Bz = b0xyz\n",
    "    axyz = np.array([Ax, Ay, Az])\n",
    "    bxyz = np.array([Bx, By, Bz])\n",
    "    C0 = A0*B0 + np.tensordot(axyz, bxyz, axes=1)\n",
    "    cxyz = A0*bxyz + B0*axyz +1j*(np.cross(axyz, bxyz))\n",
    "    c0xyz = ([C0, cxyz[0], cxyz[1], cxyz[2]])\n",
    "    return c0xyz\n",
    "\n",
    "\n",
    "#functions to take p arrays and make general a and b, so that we can do multiplication noramllly\n",
    "def p0xyz2_to_a0xyz(p0xyz_2): #used to be array_for_rho2\n",
    "    P0, Px, Py, Pz = p0xyz_2\n",
    "    pxyz = np.array([Px, Py, Pz])\n",
    "    A0 = 1 - 0.5*P0\n",
    "    axyz = -0.5*P0*pxyz\n",
    "    a0xyz = ([A0, axyz[0], axyz[1], axyz[2]])\n",
    "    return a0xyz\n",
    "\n",
    "def p0xyz4_to_b0xyz(p0xyz_4): #used to be array_for_rho4\n",
    "    P0, Px, Py, Pz = p0xyz_4\n",
    "    pxyz = np.array([Px, Py, Pz])\n",
    "    B0 = 0.5*P0\n",
    "    bxyz = 0.5*P0*pxyz\n",
    "    b0xyz = ([B0, bxyz[0], bxyz[1], bxyz[2]])\n",
    "    return b0xyz #makes array to be put into matrix maker to create rho\n",
    "\n",
    "#takes p arrays and makes matrix C (which is A*B)\n",
    "def p0xyz2_p0xyz4_to_C(p0xyz_2, p0xyz_4):\n",
    "    a0xyz = p0xyz2_to_a0xyz(p0xyz_2)\n",
    "    b0xyz = p0xyz4_to_b0xyz(p0xyz_4)\n",
    "    c0xyz = matrix_mult_arrays(a0xyz, b0xyz)\n",
    "    C = matrix_maker(c0xyz)\n",
    "    return C\n",
    "\n",
    "#two ways to make final F\n",
    "def F_array(p0xyz_1, p0xyz_2, p0xyz_3, p0xyz_4): #same function as before but minus making the matrix at the end\n",
    "    a0xyz = p0xyz2_to_a0xyz(p0xyz_2)\n",
    "    b0xyz = p0xyz4_to_b0xyz(p0xyz_4)\n",
    "    c0xyz = matrix_mult_arrays(a0xyz, b0xyz)\n",
    "    d0xyz = [c0xyz[0] + 2*c0xyz[0], c0xyz[1], c0xyz[2], c0xyz[3]]\n",
    "    e0xyz = matrix_mult_arrays(p0xyz_3, d0xyz)\n",
    "    f0xyz = matrix_mult_arrays(p0xyz_1, e0xyz)\n",
    "    return (f0xyz)\n",
    "#note: can probably refine F_array_to_matrix function to just call F_array and then matrix maker\n",
    "def F_array_to_matrix(p0xyz_1, p0xyz_2, p0xyz_3, p0xyz_4):\n",
    "    a0xyz = p0xyz2_to_a0xyz(p0xyz_2)\n",
    "    b0xyz = p0xyz4_to_b0xyz(p0xyz_4)\n",
    "    c0xyz = matrix_mult_arrays(a0xyz, b0xyz)\n",
    "    d0xyz = [c0xyz[0] + 2*c0xyz[0], c0xyz[1], c0xyz[2], c0xyz[3]]\n",
    "    e0xyz = matrix_mult_arrays(p0xyz_3, d0xyz)\n",
    "    f0xyz = matrix_mult_arrays(p0xyz_1, e0xyz)\n",
    "    F = matrix_maker(f0xyz)\n",
    "    return (F)\n",
    "\n",
    "def F_matrix(p0xyz_1, p0xyz_2, p0xyz_3, p0xyz_4):\n",
    "    C = p0xyz2_p0xyz4_to_C(p0xyz_2, p0xyz_4)\n",
    "    D = C + np.trace(C)*identity_matrix\n",
    "    E = matrix_maker(p0xyz_3)@D\n",
    "    F = matrix_maker(p0xyz_1)@E\n",
    "    return (F)"
   ]
  },
  {
   "cell_type": "markdown",
   "id": "502d7707",
   "metadata": {},
   "source": [
    "rewrite all necessary functions above\n",
    "- want to get to this:"
   ]
  },
  {
   "cell_type": "code",
   "execution_count": 5,
   "id": "afdde7c2",
   "metadata": {},
   "outputs": [],
   "source": [
    "def Fvvsc_array(p0xyz_1, p0xyz_2, p0xyz_3, p0xyz_4):\n",
    "    f0xyz = F_array(p0xyz_1, p0xyz_2, p0xyz_3, p0xyz_4)\n",
    "    f0xyz_conj = np.conjugate(f0xyz)\n",
    "    Re_f0xyz = f0xyz + f0xyz_conj\n",
    "    return Re_f0xyz\n",
    "\n",
    "#def Fvvsc_matrix(p0xyz_1, p0xyz_2, p0xyz_3, p0xyz_4):\n",
    "    #F = F_matrix(p0xyz_1, p0xyz_2, p0xyz_3, p0xyz_4)\n",
    "    #F_conj = np.conjugate(F)\n",
    "    #Re_F = F + F_conj\n",
    "    #return Re_F\n",
    "\n",
    "def Fvvsc_matrix(p0xyz_1, p0xyz_2, p0xyz_3, p0xyz_4):\n",
    "    F = F_matrix(p0xyz_1, p0xyz_2, p0xyz_3, p0xyz_4)\n",
    "    F_conj = np.conjugate(F)\n",
    "    F_dagger = np.transpose(F_conj)\n",
    "    Fvvsc = F + F_dagger\n",
    "    return Fvvsc\n",
    "\n",
    "def Fvvsc_arr_2_mat(p0xyz_1, p0xyz_2, p0xyz_3, p0xyz_4):\n",
    "    Re_f0xyz = Fvvsc_array(p0xyz_1, p0xyz_2, p0xyz_3, p0xyz_4)\n",
    "    Fvvsc_from_array = matrix_maker(Re_f0xyz)\n",
    "    return Fvvsc_from_array"
   ]
  },
  {
   "cell_type": "code",
   "execution_count": 6,
   "id": "bedab70c",
   "metadata": {},
   "outputs": [
    {
     "name": "stdout",
     "output_type": "stream",
     "text": [
      "Fvvsc_array PRODUCES:\n",
      "[[-10.+0.j  -4.+2.j]\n",
      " [ -4.-2.j  -2.+0.j]]\n",
      "Fvvsc_arr_2_mat PRODUCES:\n",
      "[[-10.+0.j  -4.+2.j]\n",
      " [ -4.-2.j  -2.+0.j]]\n",
      "Fvvsc_matrix PRODUCES:\n",
      "[[-10.+0.j  -4.+2.j]\n",
      " [ -4.-2.j  -2.+0.j]]\n"
     ]
    }
   ],
   "source": [
    "#make matrix from array\n",
    "Re_f0xyz = Fvvsc_array(p0xyz_1, p0xyz_2, p0xyz_3, p0xyz_4)\n",
    "Fvvsc_from_array = matrix_maker(Re_f0xyz)\n",
    "print('Fvvsc_array PRODUCES:')\n",
    "print(Fvvsc_from_array)\n",
    "\n",
    "Fvvsc_arr_2_mat = Fvvsc_arr_2_mat(p0xyz_1, p0xyz_2, p0xyz_3, p0xyz_4)\n",
    "print('Fvvsc_arr_2_mat PRODUCES:')\n",
    "print(Fvvsc_arr_2_mat)\n",
    "\n",
    "F_made_with_matrices = Fvvsc_matrix(p0xyz_1, p0xyz_2, p0xyz_3, p0xyz_4)\n",
    "print('Fvvsc_matrix PRODUCES:')\n",
    "print(F_made_with_matrices)"
   ]
  },
  {
   "cell_type": "code",
   "execution_count": 7,
   "id": "a170cbc4",
   "metadata": {},
   "outputs": [
    {
     "name": "stdout",
     "output_type": "stream",
     "text": [
      "[[-5.+1.j -3.+1.j]\n",
      " [-1.-1.j -1.+1.j]]\n",
      "[[-5.+1.j -3.+1.j]\n",
      " [-1.-1.j -1.+1.j]]\n"
     ]
    }
   ],
   "source": [
    "FM = F_matrix(p0xyz_1, p0xyz_2, p0xyz_3, p0xyz_4)\n",
    "FA = F_array_to_matrix(p0xyz_1, p0xyz_2, p0xyz_3, p0xyz_4)\n",
    "print(FM)\n",
    "print(FA)"
   ]
  },
  {
   "cell_type": "code",
   "execution_count": 8,
   "id": "3935b145",
   "metadata": {},
   "outputs": [],
   "source": [
    "def Fvvsc_array(p0xyz_1, p0xyz_2, p0xyz_3, p0xyz_4):\n",
    "    f0xyz = F_array(p0xyz_1, p0xyz_2, p0xyz_3, p0xyz_4)\n",
    "    f0 = f0xyz[0]\n",
    "    f0_conj = np.conjugate(f0xyz[0])\n",
    "    Re_f0 = f0 + f0_conj\n",
    "    print(Re_f0)\n",
    "   \n",
    "    fx = f0xyz[1]\n",
    "    fx_conj = np.conjugate(f0xyz[1])\n",
    "    Re_fx = fx + fx_conj\n",
    "    print(Re_fx)\n",
    "    \n",
    "    fy = f0xyz[2]\n",
    "    fy_conj = np.conjugate(f0xyz[2])\n",
    "    Re_fy = fy + fy_conj\n",
    "    print(Re_fy)\n",
    "    \n",
    "    \n",
    "    fz = f0xyz[3]\n",
    "    fz_conj = np.conjugate(f0xyz[3])\n",
    "    Re_fz = fz + fz_conj\n",
    "    print(Re_fz)\n",
    "    print ('f0xyz', f0xyz)\n",
    "    \n",
    "    Re_f0xyz = [Re_f0, Re_fx, Re_fy, Re_fz]\n",
    "    return Re_f0xyz, f0xyz\n",
    "\n",
    "def Fvvsc_matrix(p0xyz_1, p0xyz_2, p0xyz_3, p0xyz_4):\n",
    "    F = F_matrix(p0xyz_1, p0xyz_2, p0xyz_3, p0xyz_4)\n",
    "    print(F)\n",
    "    F_conj = np.conjugate(F)\n",
    "    F_dagger = np.transpose(F_conj)\n",
    "    Fvvsc = F + F_dagger\n",
    "    #need transpose\n",
    "    return Fvvsc"
   ]
  },
  {
   "cell_type": "code",
   "execution_count": 9,
   "id": "62635689",
   "metadata": {},
   "outputs": [
    {
     "name": "stdout",
     "output_type": "stream",
     "text": [
      "(-6+0j)\n",
      "(-4+0j)\n",
      "(-2+0j)\n",
      "(-4+0j)\n",
      "f0xyz [(-3+1j), (-2+0j), (-1-1j), (-2+0j)]\n"
     ]
    },
    {
     "data": {
      "text/plain": [
       "([(-6+0j), (-4+0j), (-2+0j), (-4+0j)], [(-3+1j), (-2+0j), (-1-1j), (-2+0j)])"
      ]
     },
     "execution_count": 9,
     "metadata": {},
     "output_type": "execute_result"
    }
   ],
   "source": [
    "Re_f0xyz, Im_f0xyz = Fvvsc_array(p0xyz_1, p0xyz_2, p0xyz_3, p0xyz_4)\n",
    "Re_f0xyz, Im_f0xyz"
   ]
  },
  {
   "cell_type": "code",
   "execution_count": 10,
   "id": "73874834",
   "metadata": {},
   "outputs": [
    {
     "name": "stdout",
     "output_type": "stream",
     "text": [
      "[(-6+0j), (-4+0j), (-2+0j), (-4+0j)]\n"
     ]
    },
    {
     "data": {
      "text/plain": [
       "(array([[-10.+0.j,  -4.+2.j],\n",
       "        [ -4.-2.j,  -2.+0.j]]),\n",
       " array([[-5.+1.j, -3.+1.j],\n",
       "        [-1.-1.j, -1.+1.j]]))"
      ]
     },
     "execution_count": 10,
     "metadata": {},
     "output_type": "execute_result"
    }
   ],
   "source": [
    "Re_f0xyz\n",
    "matrixA = matrix_maker(Re_f0xyz)\n",
    "matrixA_im = matrix_maker(Im_f0xyz)\n",
    "print(Re_f0xyz) # how is it taking all real numbers and returning a comlplex matri\n",
    "matrixA, matrixA_im"
   ]
  },
  {
   "cell_type": "code",
   "execution_count": 11,
   "id": "01841e8b",
   "metadata": {},
   "outputs": [
    {
     "name": "stdout",
     "output_type": "stream",
     "text": [
      "[[-5.+1.j -3.+1.j]\n",
      " [-1.-1.j -1.+1.j]]\n"
     ]
    },
    {
     "data": {
      "text/plain": [
       "array([[-10.+0.j,  -4.+2.j],\n",
       "       [ -4.-2.j,  -2.+0.j]])"
      ]
     },
     "execution_count": 11,
     "metadata": {},
     "output_type": "execute_result"
    }
   ],
   "source": [
    "matrixM = Fvvsc_matrix(p0xyz_1, p0xyz_2, p0xyz_3, p0xyz_4)\n",
    "matrixM"
   ]
  },
  {
   "cell_type": "code",
   "execution_count": null,
   "id": "64764ba2",
   "metadata": {},
   "outputs": [],
   "source": []
  },
  {
   "cell_type": "code",
   "execution_count": 12,
   "id": "96e811f9",
   "metadata": {
    "scrolled": true
   },
   "outputs": [
    {
     "name": "stdout",
     "output_type": "stream",
     "text": [
      "******** this is how i make complex conj in Fvvsc_array *******\n",
      "f0xyz= [(-3+1j), (-2+0j), (-1-1j), (-2+0j)]\n",
      "f0xyz_conj= [-3.-1.j -2.-0.j -1.+1.j -2.-0.j]\n",
      "********\n",
      "F array to matrix= [[-5.+1.j -3.+1.j]\n",
      " [-1.-1.j -1.+1.j]]\n",
      "Complex conj F array to matrix= [[-5.-1.j -1.+1.j]\n",
      " [-3.-1.j -1.-1.j]]\n",
      "adding those^ [[-10.+0.j  -4.+2.j]\n",
      " [ -4.-2.j  -2.+0.j]]\n",
      "so taking f0xyz and f0xyz_conj and making matrices, they make the transpose of each other.. interesting\n",
      "********\n",
      "Re_f0xyz [-6.+0.j -4.+0.j -2.+0.j -4.+0.j]\n",
      "Re_F made from array= [[-10.+0.j  -4.+2.j]\n",
      " [ -4.-2.j  -2.+0.j]] the 2j should NOT be imaginary!!! why??\n",
      "******** this is how i make complex conj in Fvvsc_matrix *******\n",
      "F= [[-5.+1.j -3.+1.j]\n",
      " [-1.-1.j -1.+1.j]]\n",
      "F_conj= [[-5.-1.j -3.-1.j]\n",
      " [-1.+1.j -1.-1.j]]\n",
      "Re_F made directly= [[-10.+0.j  -6.+0.j]\n",
      " [ -2.+0.j  -2.+0.j]]\n"
     ]
    }
   ],
   "source": [
    "##################################################################################\n",
    "#this is how i make complex conj in Fvvsc_array\n",
    "#################################################################################\n",
    "f0xyz = F_array(p0xyz_1, p0xyz_2, p0xyz_3, p0xyz_4)\n",
    "f0xyz_conj = np.conjugate(f0xyz)\n",
    "\n",
    "print('******** this is how i make complex conj in Fvvsc_array *******')\n",
    "print('f0xyz=',f0xyz)\n",
    "print('f0xyz_conj=', f0xyz_conj)\n",
    "\n",
    "print('********')\n",
    "f0xyz_to_matrix = matrix_maker(f0xyz)\n",
    "f0xyz_conj_to_matrix = matrix_maker(f0xyz_conj)\n",
    "print('F array to matrix=', f0xyz_to_matrix)\n",
    "print('Complex conj F array to matrix=', f0xyz_conj_to_matrix)\n",
    "print('adding those^', f0xyz_to_matrix + f0xyz_conj_to_matrix )\n",
    "print('so taking f0xyz and f0xyz_conj and making matrices, they make the transpose of each other.. interesting')\n",
    "\n",
    "print('********')\n",
    "Re_f0xyz = f0xyz + f0xyz_conj\n",
    "print('Re_f0xyz', Re_f0xyz)\n",
    "Re_F_made_w_arrays = matrix_maker(Re_f0xyz)\n",
    "print('Re_F made from array=', Re_F_made_w_arrays, \"the 2j should NOT be imaginary!!! why??\")\n",
    "\n",
    "\n",
    "\n",
    "#################################################################################\n",
    "#this is how i make complex conj in Fvvsc_matrix\n",
    "#################################################################################\n",
    "F = F_matrix(p0xyz_1, p0xyz_2, p0xyz_3, p0xyz_4)\n",
    "F_conj = np.conjugate(F)\n",
    "\n",
    "print('******** this is how i make complex conj in Fvvsc_matrix *******')\n",
    "print('F=',F)\n",
    "print('F_conj=',F_conj)\n",
    "Re_F = F + F_conj\n",
    "print('Re_F made directly=', Re_F)"
   ]
  },
  {
   "cell_type": "markdown",
   "id": "b6ba244d",
   "metadata": {},
   "source": [
    "# basically what is happening is that when I made $F^{\\nu\\nu}_{\\mathrm{sc}}$ two ways, they are the same matrix, its just that when I do array to matrix maker there is an extra factor of j on the 2 on the diagonals... "
   ]
  },
  {
   "cell_type": "markdown",
   "id": "de496634",
   "metadata": {},
   "source": [
    "# this is because $F^{\\nu\\nu}_{\\mathrm{sc}}$ made with the array first, makes a real array but put that into matrix maker and if it has a pauli y component the outputted matrix will have an imaginary part"
   ]
  },
  {
   "cell_type": "markdown",
   "id": "dd50a7cb",
   "metadata": {},
   "source": [
    "testing"
   ]
  }
 ],
 "metadata": {
  "kernelspec": {
   "display_name": "Python 3 (ipykernel)",
   "language": "python",
   "name": "python3"
  },
  "language_info": {
   "codemirror_mode": {
    "name": "ipython",
    "version": 3
   },
   "file_extension": ".py",
   "mimetype": "text/x-python",
   "name": "python",
   "nbconvert_exporter": "python",
   "pygments_lexer": "ipython3",
   "version": "3.9.13"
  }
 },
 "nbformat": 4,
 "nbformat_minor": 5
}
