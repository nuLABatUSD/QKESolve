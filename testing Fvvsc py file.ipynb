{
 "cells": [
  {
   "cell_type": "code",
   "execution_count": 1,
   "id": "0cb7f4cf",
   "metadata": {},
   "outputs": [],
   "source": [
    "import numpy as np\n",
    "import numba as nb\n",
    "import random\n",
    "import matplotlib.pyplot as plt\n",
    "import Fvvsc"
   ]
  },
  {
   "cell_type": "code",
   "execution_count": 2,
   "id": "8306790e",
   "metadata": {},
   "outputs": [],
   "source": [
    "p0xyz_1 = np.array([1j, 1, 1, 1])\n",
    "p0xyz_2 = np.array([1, 1, 1, 1])\n",
    "p0xyz_3 = np.array([1, 1, 1, 1])\n",
    "p0xyz_4 = np.array([1, 1, 1, -1j])\n",
    "\n",
    "\n",
    "identity_matrix = np.zeros((2,2), dtype = 'complex128')\n",
    "identity_matrix[0,0]= 1\n",
    "identity_matrix[1,1] = 1"
   ]
  },
  {
   "cell_type": "code",
   "execution_count": 3,
   "id": "581e21be",
   "metadata": {},
   "outputs": [
    {
     "data": {
      "text/plain": [
       "array([ 0.125+1.125j, -0.125+0.875j, -0.375+0.625j,  0.125+0.875j])"
      ]
     },
     "execution_count": 3,
     "metadata": {},
     "output_type": "execute_result"
    }
   ],
   "source": [
    "Fvvsc.F_components_term1(p0xyz_1, p0xyz_2, p0xyz_3, p0xyz_4)"
   ]
  },
  {
   "cell_type": "code",
   "execution_count": 4,
   "id": "84d7a650",
   "metadata": {},
   "outputs": [
    {
     "name": "stdout",
     "output_type": "stream",
     "text": [
      "[ 0.125+1.125j -0.125+0.875j -0.375+0.625j  0.125+0.875j]\n",
      "[ 0.375+0.375j  0.125+0.125j -0.125-0.125j  0.125-0.125j]\n",
      "[ 0.25+0.j -0.25+0.j -0.75+0.j  0.25+0.j]\n",
      "[ 0.75+0.j  0.25+0.j -0.25+0.j  0.25+0.j]\n",
      "[ 1. +0.j  0. +0.j -1. +0.j  0.5+0.j]\n"
     ]
    }
   ],
   "source": [
    "print(Fvvsc.F_components_term1(p0xyz_1, p0xyz_2, p0xyz_3, p0xyz_4))\n",
    "print(Fvvsc.F_components_term2(p0xyz_1, p0xyz_2, p0xyz_3, p0xyz_4))\n",
    "print(Fvvsc.Fvvsc_components_term1(p0xyz_1, p0xyz_2, p0xyz_3, p0xyz_4))\n",
    "print(Fvvsc.Fvvsc_components_term2(p0xyz_1, p0xyz_2, p0xyz_3, p0xyz_4))\n",
    "print(Fvvsc.Fvvsc_components(p0xyz_1, p0xyz_2, p0xyz_3, p0xyz_4))"
   ]
  }
 ],
 "metadata": {
  "kernelspec": {
   "display_name": "Python 3 (ipykernel)",
   "language": "python",
   "name": "python3"
  },
  "language_info": {
   "codemirror_mode": {
    "name": "ipython",
    "version": 3
   },
   "file_extension": ".py",
   "mimetype": "text/x-python",
   "name": "python",
   "nbconvert_exporter": "python",
   "pygments_lexer": "ipython3",
   "version": "3.9.13"
  }
 },
 "nbformat": 4,
 "nbformat_minor": 5
}
