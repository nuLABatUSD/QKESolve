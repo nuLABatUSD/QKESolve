{
 "cells": [
  {
   "cell_type": "code",
   "execution_count": 44,
   "id": "0feff3cc",
   "metadata": {},
   "outputs": [],
   "source": [
    "import numpy as np\n",
    "import derivatives as der"
   ]
  },
  {
   "cell_type": "code",
   "execution_count": 39,
   "id": "df772631",
   "metadata": {},
   "outputs": [],
   "source": [
    "collision = np.load(\"T100TTFT-C.npz\", allow_pickle=True)\n",
    "C = collision['C']\n",
    "p = collision['p']\n",
    "\n",
    "data = np.load(\"T100TTFT.npz\", allow_pickle=True)\n",
    "settings = data['settings'].item()\n",
    "raw = data['raw'].item()\n",
    "nu3D = raw['nu3D']\n",
    "nubar3D = raw['nubar3D']\n",
    "\n",
    "T = settings['T']\n",
    "dm2 = settings['delta m-squared']\n",
    "theta = np.arcsin(np.sqrt(settings['sin^2 (2theta)']))/2\n",
    "N = settings['N'] + 1\n",
    "E = np.linspace(0,settings['eps_max'], N) * T\n",
    "time = raw['time']"
   ]
  },
  {
   "cell_type": "code",
   "execution_count": 41,
   "id": "3c720bd0",
   "metadata": {},
   "outputs": [],
   "source": [
    "H = np.zeros((len(time), len(time)-1, 4))"
   ]
  },
  {
   "cell_type": "code",
   "execution_count": 53,
   "id": "2b79bae6",
   "metadata": {},
   "outputs": [],
   "source": [
    "def H(i,j,k):\n",
    "    vacuum = der.vacuum(nu3D[i,j,:], E[j+1], dm2, theta)\n",
    "    Vvv = der.Vvv_function(nu3D[i,:,:], E[1:]) - der.Vvv_function(nubar3D[i,:,:], E[1:])\n",
    "    VTbar = der.VT_barfunction(nu3D[i,:,:], nubar3D[i,:,:], E[1:], T)\n",
    "    \n",
    "    return nu3D[i,j,0]* (vacuum + der.crossproduct(nu3D[i,j,1:], Vvv) + der.crossproduct(nu3D[i,j,1:], VTbar))"
   ]
  },
  {
   "cell_type": "code",
   "execution_count": 54,
   "id": "6b6a9f48",
   "metadata": {},
   "outputs": [],
   "source": [
    "def Hbar(i,j,k):\n",
    "    vacuum = der.vacuum(nubar3D[i,j,:], E[j+1], dm2, theta)\n",
    "    Vvv = der.Vvv_function(nu3D[i,:,:], E[1:]) - der.Vvv_function(nubar3D[i,:,:], E[1:])\n",
    "    VTbar = der.VT_barfunction(nu3D[i,:,:], nubar3D[i,:,:], E[1:], T)\n",
    "    \n",
    "    return nubar3D[i,j,0]* (-vacuum + der.crossproduct(nubar3D[i,j,1:], Vvv) + der.crossproduct(nubar3D[i,j,1:], VTbar))"
   ]
  }
 ],
 "metadata": {
  "kernelspec": {
   "display_name": "Python 3 (ipykernel)",
   "language": "python",
   "name": "python3"
  },
  "language_info": {
   "codemirror_mode": {
    "name": "ipython",
    "version": 3
   },
   "file_extension": ".py",
   "mimetype": "text/x-python",
   "name": "python",
   "nbconvert_exporter": "python",
   "pygments_lexer": "ipython3",
   "version": "3.11.5"
  }
 },
 "nbformat": 4,
 "nbformat_minor": 5
}
