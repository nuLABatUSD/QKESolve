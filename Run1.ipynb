{
 "cells": [
  {
   "cell_type": "code",
   "execution_count": 1,
   "id": "94b4ed8c",
   "metadata": {},
   "outputs": [],
   "source": [
    "import SOLVING_QKE_FUNCTION as solve\n",
    "import numpy as np\n",
    "import derivatives as der"
   ]
  },
  {
   "cell_type": "code",
   "execution_count": 4,
   "id": "bbca8dd5",
   "metadata": {},
   "outputs": [],
   "source": [
    "N=200\n",
    "Emax= 10\n",
    "Eval= np.linspace(Emax/N, Emax, N)\n",
    "ym0 = np.zeros((N,4))\n",
    "for i in range(len(ym0)):\n",
    "    p0 = 1/(np.exp(Eval[i])+1)\n",
    "    ym0[i,:] = [p0,0,0,1]\n",
    "ym0_bar= np.zeros((N,4))\n",
    "for i in range(len(ym0_bar)):\n",
    "    p0= 1/(np.exp(Eval[i])+1)\n",
    "    ym0_bar[i,:]= [p0,0,0,1]"
   ]
  },
  {
   "cell_type": "code",
   "execution_count": null,
   "id": "bde27828",
   "metadata": {},
   "outputs": [],
   "source": [
    "%%time\n",
    "T = [0.12, 0.25, 0.44, 1, 2, 4]\n",
    "\n",
    "foldername = \"DataRun1\"\n",
    "basename = \"Run\"\n",
    "\n",
    "y0 = der.newarray_maker(ym0,ym0_bar)\n",
    "for i in range(len(T)):\n",
    "    %time solve.solve_QKE(T[i], y0, False, True, foldername, basename + '0{}'.format(i), incl_collisions=False, overwrite_file=True)\n",
    "    %time solve.solve_QKE(T[i], y0, False, True, foldername, basename + '1{}'.format(i), incl_collisions=True, overwrite_file=True)\n",
    "    %time solve.solve_QKE(T[i], y0, True, True, foldername, basename + '2{}'.format(i), incl_collisions=False, overwrite_file=True)\n",
    "    %time solve.solve_QKE(T[i], y0, True, True, foldername, basename + '3{}'.format(i), incl_collisions=True, overwrite_file=True)"
   ]
  }
 ],
 "metadata": {
  "kernelspec": {
   "display_name": "Python 3",
   "language": "python",
   "name": "python3"
  },
  "language_info": {
   "codemirror_mode": {
    "name": "ipython",
    "version": 3
   },
   "file_extension": ".py",
   "mimetype": "text/x-python",
   "name": "python",
   "nbconvert_exporter": "python",
   "pygments_lexer": "ipython3",
   "version": "3.8.8"
  }
 },
 "nbformat": 4,
 "nbformat_minor": 5
}
